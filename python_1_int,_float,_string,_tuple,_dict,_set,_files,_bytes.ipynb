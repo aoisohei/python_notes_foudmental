{
  "nbformat": 4,
  "nbformat_minor": 0,
  "metadata": {
    "colab": {
      "name": "py1. int, float, string, tuple, dict, set, files, bytes.ipynb",
      "provenance": [],
      "toc_visible": true,
      "authorship_tag": "ABX9TyMx5dOTa1d5UGUaPFmCQUNf",
      "include_colab_link": true
    },
    "kernelspec": {
      "name": "python3",
      "display_name": "Python 3"
    }
  },
  "cells": [
    {
      "cell_type": "markdown",
      "metadata": {
        "id": "view-in-github",
        "colab_type": "text"
      },
      "source": [
        "<a href=\"https://colab.research.google.com/github/aoisohei/python_notes_foudmental/blob/main/python_1_int%2C_float%2C_string%2C_tuple%2C_dict%2C_set%2C_files%2C_bytes.ipynb\" target=\"_parent\"><img src=\"https://colab.research.google.com/assets/colab-badge.svg\" alt=\"Open In Colab\"/></a>"
      ]
    },
    {
      "cell_type": "markdown",
      "metadata": {
        "id": "KfOP0QWCS2kd"
      },
      "source": [
        "<h1 align=\"center\"> int, float, string, tuple, dict, set, files, bytes <h1>"
      ]
    },
    {
      "cell_type": "code",
      "metadata": {
        "id": "pJ5RQkWlLSCV",
        "colab": {
          "base_uri": "https://localhost:8080/"
        },
        "outputId": "9414b124-8822-432d-aaab-df87aa019419"
      },
      "source": [
        "print('Everybody wants to rule the world')"
      ],
      "execution_count": null,
      "outputs": [
        {
          "output_type": "stream",
          "text": [
            "Everybody wants to rule the world\n"
          ],
          "name": "stdout"
        }
      ]
    },
    {
      "cell_type": "markdown",
      "metadata": {
        "id": "LmOxXE5wOpCx"
      },
      "source": [
        "# int\n",
        "\n"
      ]
    },
    {
      "cell_type": "code",
      "metadata": {
        "id": "jx50QAlqMu3x",
        "colab": {
          "base_uri": "https://localhost:8080/"
        },
        "outputId": "bffbf74c-fa7e-4af2-9a03-cc8d88e5ee76"
      },
      "source": [
        "# Python : le nombre est limité par la quantité totale de RAM.\n",
        "\n",
        "integer = 3\n",
        "print(integer, type(integer))"
      ],
      "execution_count": null,
      "outputs": [
        {
          "output_type": "stream",
          "text": [
            "3 <class 'int'>\n"
          ],
          "name": "stdout"
        }
      ]
    },
    {
      "cell_type": "markdown",
      "metadata": {
        "id": "DaJ03wEAOvp-"
      },
      "source": [
        "# float\n",
        "\n"
      ]
    },
    {
      "cell_type": "code",
      "metadata": {
        "id": "CJHHLvJ6PhIo",
        "colab": {
          "base_uri": "https://localhost:8080/"
        },
        "outputId": "2451ae25-dfc7-46b6-cef2-cb65bf15d4d7"
      },
      "source": [
        "# Python : le nombre est limité par la quantité totale de RAM.\n",
        "\n",
        "float1 = 3.0\n",
        "print(float1, type(float1))"
      ],
      "execution_count": null,
      "outputs": [
        {
          "output_type": "stream",
          "text": [
            "3.0 <class 'float'>\n"
          ],
          "name": "stdout"
        }
      ]
    },
    {
      "cell_type": "markdown",
      "metadata": {
        "id": "pL9LKhwtOxvZ"
      },
      "source": [
        "# str\n",
        "\n"
      ]
    },
    {
      "cell_type": "code",
      "metadata": {
        "colab": {
          "base_uri": "https://localhost:8080/"
        },
        "id": "v89bnXPxO13o",
        "outputId": "b408c191-cb12-467f-fc84-ba68c887c070"
      },
      "source": [
        "# - séquence de symboles\n",
        "\n",
        "type('World')"
      ],
      "execution_count": 51,
      "outputs": [
        {
          "output_type": "execute_result",
          "data": {
            "text/plain": [
              "str"
            ]
          },
          "metadata": {
            "tags": []
          },
          "execution_count": 51
        }
      ]
    },
    {
      "cell_type": "markdown",
      "metadata": {
        "id": "iITNS2SvUxtK"
      },
      "source": [
        "## Cut string\n"
      ]
    },
    {
      "cell_type": "code",
      "metadata": {
        "id": "VpIKTrewfRXA"
      },
      "source": [
        "# line[x:y:z] \n",
        " # x - begining of the substring, \n",
        " # y - end of the substring, \n",
        " # z - step"
      ],
      "execution_count": null,
      "outputs": []
    },
    {
      "cell_type": "code",
      "metadata": {
        "colab": {
          "base_uri": "https://localhost:8080/"
        },
        "id": "URLIuYGeUR1T",
        "outputId": "c61cd666-93cc-4a88-d02a-679ef160744d"
      },
      "source": [
        "line = str(\"Every body wants the rule the World\")\n",
        "print(line)\n",
        "print(line[0])\n",
        "print(line[-1]) # last character \n",
        "print(line[2:]) # ery body wants tu rule the world\n",
        "print(line[6:-9]) # body wants tu rule \n",
        "print(line[::2]) # show every second character => Eeybd at url h ol"
      ],
      "execution_count": null,
      "outputs": [
        {
          "output_type": "stream",
          "text": [
            "Every body wants the rule the World\n",
            "E\n",
            "d\n",
            "ery body wants the rule the World\n",
            "body wants the rule \n",
            "Eeybd at h ueteWrd\n"
          ],
          "name": "stdout"
        }
      ]
    },
    {
      "cell_type": "markdown",
      "metadata": {
        "id": "aDrjUwpmVyhr"
      },
      "source": [
        "## Find string\n",
        "\n"
      ]
    },
    {
      "cell_type": "code",
      "metadata": {
        "id": "6xWeFnmKfWlC"
      },
      "source": [
        "# x.find(y, z, f) \n",
        "# x = string/line, \n",
        "# y = la quantité de character qu'on cherche\n",
        "# z = à partir de quelle character il faut commencer à chercher\n",
        "# f = ou il faut fini"
      ],
      "execution_count": null,
      "outputs": []
    },
    {
      "cell_type": "code",
      "metadata": {
        "colab": {
          "base_uri": "https://localhost:8080/"
        },
        "id": "F9OxBBmAPjqM",
        "outputId": "2e704581-d37f-4850-f72b-2f3acf2e47d1"
      },
      "source": [
        "print(line.find('e')) # s'il y plusieur 'e', fonction affiche le premier qui trouve\n",
        "print(line.find('e', 3, 10)) # -1 s'agnifie qu'il ne faut pas trouver ce character\n",
        "print(line.find('World'))"
      ],
      "execution_count": 44,
      "outputs": [
        {
          "output_type": "stream",
          "text": [
            "2\n",
            "-1\n",
            "30\n",
            "\n"
          ],
          "name": "stdout"
        }
      ]
    },
    {
      "cell_type": "markdown",
      "metadata": {
        "id": "lTnWTyv7YVER"
      },
      "source": [
        "## Anotherfonctions for string\n",
        " \n"
      ]
    },
    {
      "cell_type": "code",
      "metadata": {
        "id": "IPz2Fbk5fb4M"
      },
      "source": [
        "# len()             # numbers of characters in the string\n",
        "# line.count('e')   # numbers of one character in the string\n",
        " \n",
        "# .capitalize()     # first character is capital, other are little\n",
        "# .lower()          # all characters are little\n",
        "# .upper()          # all characters are capital\n",
        " \n",
        "# h.strip('     ') #suprimer un string in other string (h - string)"
      ],
      "execution_count": null,
      "outputs": []
    },
    {
      "cell_type": "code",
      "metadata": {
        "colab": {
          "base_uri": "https://localhost:8080/"
        },
        "id": "rblRfORjPfrC",
        "outputId": "e88b984d-f854-4410-97c8-dd61ec48e482"
      },
      "source": [
        "print(len(line), \" in string => \", line) # numbers of characters in the string\n",
        "print(line.count('e'), \"'e' in string => \", line) # numbers of one character in the string\n",
        "print()"
      ],
      "execution_count": 41,
      "outputs": [
        {
          "output_type": "stream",
          "text": [
            "35  in string =>  Every body wants the rule the World\n",
            "4 'e' in string =>  Every body wants the rule the World\n",
            "\n"
          ],
          "name": "stdout"
        }
      ]
    },
    {
      "cell_type": "code",
      "metadata": {
        "colab": {
          "base_uri": "https://localhost:8080/"
        },
        "id": "9ixLsPyJPhhq",
        "outputId": "3aca3f70-5882-4d57-8d09-51626ba12a50"
      },
      "source": [
        "# Operations with registre\n",
        "line1 = line.capitalize() # first character is capital, other are little\n",
        "print('line1', line1) # first character is capital, other are little\n",
        "\n",
        "line2 = line.upper() # all characters are capital,\n",
        "print('line2', line2) # all characters are capital,\n",
        "\n",
        "line3 = line.lower()\n",
        "print('line3', line3) # all characters are little,\n",
        "print()"
      ],
      "execution_count": 42,
      "outputs": [
        {
          "output_type": "stream",
          "text": [
            "line1 Every body wants the rule the world\n",
            "line2 EVERY BODY WANTS THE RULE THE WORLD\n",
            "line3 every body wants the rule the world\n",
            "\n"
          ],
          "name": "stdout"
        }
      ]
    },
    {
      "cell_type": "markdown",
      "metadata": {
        "id": "LIQ1OBwwXDIK"
      },
      "source": [
        "## Varification \n"
      ]
    },
    {
      "cell_type": "code",
      "metadata": {
        "id": "g3qaqLweffYT"
      },
      "source": [
        "# .isalnum() # varifiacation : s'il n'y a que les nombres et les lettres \n",
        "# .isalpha() # varifiacation : s'il n'y a que les lettres\n",
        "# .isspace() # varifiacation : s'il y a les spaces \n",
        "# .startswith() # .endswith(u1)\n",
        "# .endswith()\n",
        "# .isupper()\n",
        "# .islower()"
      ],
      "execution_count": null,
      "outputs": []
    },
    {
      "cell_type": "code",
      "metadata": {
        "colab": {
          "base_uri": "https://localhost:8080/"
        },
        "id": "ZfgBknbUPjW8",
        "outputId": "b9fdb4f1-f1f2-47a3-cb15-3da97c5d8f0f"
      },
      "source": [
        "# varifiacation : si tout les charaters sont grands\n",
        "print('si tout les charaters sont grands in line2 :' , line2.isupper())\n",
        "print('si tout les charaters sont petits in line3 :' , line3.islower())\n",
        "print()"
      ],
      "execution_count": 43,
      "outputs": [
        {
          "output_type": "stream",
          "text": [
            "si tout les charaters sont grands in line2 : True\n",
            "si tout les charaters sont petits in line3 : True\n",
            "\n"
          ],
          "name": "stdout"
        }
      ]
    },
    {
      "cell_type": "code",
      "metadata": {
        "colab": {
          "base_uri": "https://localhost:8080/"
        },
        "id": "se1ipfszPv9T",
        "outputId": "eca4a247-5ad6-4714-ad1a-deeb0839562a"
      },
      "source": [
        "print('123abs'.isalnum()) # varifiacation : s'il n'y a que les nombres et les lettres\n",
        "print('123abs!'.isalnum())# varifiacation : s'il y a les '!' et autres symboles\n",
        "print('abs'.isalpha())    # varifiacation : s'il n'y a que les lettres"
      ],
      "execution_count": 45,
      "outputs": [
        {
          "output_type": "stream",
          "text": [
            "True\n",
            "False\n",
            "True\n"
          ],
          "name": "stdout"
        }
      ]
    },
    {
      "cell_type": "code",
      "metadata": {
        "id": "2fLLPy0Ofufd"
      },
      "source": [
        "# start and end with special lettres\n",
        "u = \"world\"\n",
        "u1 = \"wo\"\n",
        "print(u.startswith(u1))\n",
        "print(u.endswith(u1))"
      ],
      "execution_count": null,
      "outputs": []
    },
    {
      "cell_type": "markdown",
      "metadata": {
        "id": "eHh8NbLmXn4Z"
      },
      "source": [
        "## Split string\n",
        "\n"
      ]
    },
    {
      "cell_type": "code",
      "metadata": {
        "id": "tDTl3xiUfl3F"
      },
      "source": [
        "# .split()\n",
        "# .partition()"
      ],
      "execution_count": null,
      "outputs": []
    },
    {
      "cell_type": "code",
      "metadata": {
        "colab": {
          "base_uri": "https://localhost:8080/"
        },
        "id": "6CyMJPgvPzE-",
        "outputId": "a732ad2b-0bf4-4752-d6a0-33b0eeeef2bc"
      },
      "source": [
        "spliting = u.split('l')\n",
        "print(type(spliting), spliting)\n",
        "\n",
        "print(line.partition('rule'))\n",
        "print(line.partition('the'))\n",
        "\n",
        "print('PARTIE 2 - formating of string')"
      ],
      "execution_count": 47,
      "outputs": [
        {
          "output_type": "stream",
          "text": [
            "True\n",
            "False\n",
            "<class 'list'> ['wor', 'd']\n",
            "('Every body wants the ', 'rule', ' the World')\n",
            "('Every body wants ', 'the', ' rule the World')\n",
            "PARTIE 2 - formating of string\n"
          ],
          "name": "stdout"
        }
      ]
    },
    {
      "cell_type": "markdown",
      "metadata": {
        "id": "0hRGjkkCUPvr"
      },
      "source": [
        "## Output "
      ]
    },
    {
      "cell_type": "code",
      "metadata": {
        "colab": {
          "base_uri": "https://localhost:8080/"
        },
        "id": "rfLT7e8AUwFY",
        "outputId": "c635d47a-7299-4d54-b0c5-a28a7432d6b8"
      },
      "source": [
        "# pour plusieur caractera\n",
        "# % - pourcentage de poids\n",
        "p1 = \"every\"\n",
        "p2 = \"world\"\n",
        "print(\"%s %s\" % (p1, p2))\n",
        "print(\"{} {}\".format(p1, p2)) # \n",
        "print()\n",
        "\n",
        "w = \"World\"\n",
        "print(\"Every body wants to rule the {}\".format(w)) \n",
        "print(\"Every body wants to {} the {}\".format(\"rule\", w))\n",
        "print()"
      ],
      "execution_count": 52,
      "outputs": [
        {
          "output_type": "stream",
          "text": [
            "every world\n",
            "every world\n",
            "\n",
            "Every body wants to rule the World\n",
            "Every body wants to rule the World\n",
            "\n"
          ],
          "name": "stdout"
        }
      ]
    },
    {
      "cell_type": "code",
      "metadata": {
        "id": "CgCTsF2mQHed",
        "colab": {
          "base_uri": "https://localhost:8080/"
        },
        "outputId": "76d32935-144b-43d5-ae74-0e0a34783099"
      },
      "source": [
        "# interpalation python 3.6\n",
        "w = \"World N°\"\n",
        "r = 1\n",
        "print(f\"Every body wants to rule the {w} {r}\")\n",
        "print(\"Pi equals {r:1.2f}\".format(r=pi))"
      ],
      "execution_count": 49,
      "outputs": [
        {
          "output_type": "stream",
          "text": [
            "Every body wants to rule the World N° 1\n",
            "Pi equals 3.14\n"
          ],
          "name": "stdout"
        }
      ]
    },
    {
      "cell_type": "code",
      "metadata": {
        "colab": {
          "base_uri": "https://localhost:8080/"
        },
        "id": "OOKhZx6gP03V",
        "outputId": "1fcac823-1f98-4c16-a049-70b2618ad731"
      },
      "source": [
        "pi = 3.14\n",
        "print(\"Pi equals {r:1.2f}\".format(r=pi))\n",
        "print(\"Pi equals {r:2.2f}\".format(r=pi))\n",
        "print(\"Pi equals {r:3.2f}\".format(r=pi))\n",
        "print(\"Pi equals {r:4.2f}\".format(r=pi))\n",
        "print(\"Pi equals {r:5.2f}\".format(r=pi)) # un space est apparu avant 3.14, parce que 3.14 ne comporte que 4 symboles\n",
        "print()"
      ],
      "execution_count": 48,
      "outputs": [
        {
          "output_type": "stream",
          "text": [
            "Every body wants to rule the World\n",
            "\n",
            "Every body wants to rule the World\n",
            "\n",
            "Pi equals 3.14\n",
            "Pi equals 3.14\n",
            "Pi equals 3.14\n",
            "Pi equals 3.14\n",
            "Pi equals  3.14\n",
            "\n"
          ],
          "name": "stdout"
        }
      ]
    },
    {
      "cell_type": "markdown",
      "metadata": {
        "id": "Mwm49Q9yQxM5"
      },
      "source": [
        "# Stockage "
      ]
    },
    {
      "cell_type": "code",
      "metadata": {
        "id": "vCz2BPqDQ9-P",
        "colab": {
          "base_uri": "https://localhost:8080/"
        },
        "outputId": "61e06ffc-b6d3-483f-b28a-8b7ae816a512"
      },
      "source": [
        "# - séquence d'objets\n",
        "\n",
        "list1 = [1, 2.2, 'every', \"w'orld\"]\n",
        "print(list1, type(list1))\n"
      ],
      "execution_count": null,
      "outputs": [
        {
          "output_type": "stream",
          "text": [
            "[1, 2.2, 'every', \"w'orld\"] <class 'list'>\n"
          ],
          "name": "stdout"
        }
      ]
    },
    {
      "cell_type": "code",
      "metadata": {
        "id": "QG3uh938SSfu",
        "colab": {
          "base_uri": "https://localhost:8080/"
        },
        "outputId": "b154215a-1371-4b52-e084-78934806ce82"
      },
      "source": [
        "# dict \n",
        "\n",
        "# - séquence de paire 'clé / valeur'\n",
        "\n",
        "dict1 = {\"worlds\" : 3, \"dirigants\" : 5, \"systems\" : 6}\n",
        "print(dict1, type(dict1))"
      ],
      "execution_count": null,
      "outputs": [
        {
          "output_type": "stream",
          "text": [
            "{'worlds': 3, 'dirigants': 5, 'systems': 6} <class 'dict'>\n"
          ],
          "name": "stdout"
        }
      ]
    },
    {
      "cell_type": "code",
      "metadata": {
        "id": "KjrWh8XoV_Gu",
        "colab": {
          "base_uri": "https://localhost:8080/"
        },
        "outputId": "9095e4ec-b5d6-42f9-f81a-7035ef2fd3c9"
      },
      "source": [
        "# tuple \n",
        "\n",
        "# - séquence d'objets qu'il ne faut pas changer\n",
        "\n",
        "tuple1 = (1, 2.2, 'every', \"w'orld\")\n",
        "print(tuple1, type(tuple1))"
      ],
      "execution_count": null,
      "outputs": [
        {
          "output_type": "stream",
          "text": [
            "(1, 2.2, 'every', \"w'orld\") <class 'tuple'>\n"
          ],
          "name": "stdout"
        }
      ]
    },
    {
      "cell_type": "code",
      "metadata": {
        "id": "tpsw5IcJWZSB",
        "colab": {
          "base_uri": "https://localhost:8080/"
        },
        "outputId": "5cf50df6-52bf-4dfc-8df1-bfdeb60d4653"
      },
      "source": [
        "# set \n",
        "\n",
        "# - séquence d'objets uniques (il n'y a pas deux pareil valeur)\n",
        "\n",
        "set1 = {\"a\", \"b\"}\n",
        "print(set1, type(set1))"
      ],
      "execution_count": null,
      "outputs": [
        {
          "output_type": "stream",
          "text": [
            "{'b', 'a'} <class 'set'>\n"
          ],
          "name": "stdout"
        }
      ]
    },
    {
      "cell_type": "code",
      "metadata": {
        "id": "dsbA5WJyW0V9",
        "colab": {
          "base_uri": "https://localhost:8080/"
        },
        "outputId": "f18ad6e6-f695-4d2e-9196-059dd1867da6"
      },
      "source": [
        "# bool\n",
        "\n",
        "bool1 = True\n",
        "bool2 = False\n",
        "\n",
        "print(bool1, type(bool1))\n",
        "print(bool2, type(bool2))"
      ],
      "execution_count": null,
      "outputs": [
        {
          "output_type": "stream",
          "text": [
            "True <class 'bool'>\n",
            "False <class 'bool'>\n"
          ],
          "name": "stdout"
        }
      ]
    },
    {
      "cell_type": "code",
      "metadata": {
        "id": "wWAcrxE4eaXy",
        "colab": {
          "base_uri": "https://localhost:8080/"
        },
        "outputId": "69c7b2f8-673a-4747-9a9b-73664e410ee6"
      },
      "source": [
        "z = None\n",
        "\n",
        "print(z, type(z))"
      ],
      "execution_count": null,
      "outputs": [
        {
          "output_type": "stream",
          "text": [
            "None <class 'NoneType'>\n"
          ],
          "name": "stdout"
        }
      ]
    },
    {
      "cell_type": "markdown",
      "metadata": {
        "id": "Do0tVDgde7oN"
      },
      "source": [
        "# Work with file system"
      ]
    },
    {
      "cell_type": "code",
      "metadata": {
        "id": "jDcFUvboXDid",
        "colab": {
          "base_uri": "https://localhost:8080/",
          "height": 35
        },
        "outputId": "6c06fad3-5f72-4b58-8018-6f0ec0c3be6d"
      },
      "source": [
        "pwd"
      ],
      "execution_count": null,
      "outputs": [
        {
          "output_type": "execute_result",
          "data": {
            "application/vnd.google.colaboratory.intrinsic+json": {
              "type": "string"
            },
            "text/plain": [
              "'/content'"
            ]
          },
          "metadata": {
            "tags": []
          },
          "execution_count": 43
        }
      ]
    },
    {
      "cell_type": "code",
      "metadata": {
        "id": "NYJ8AXewXQcp",
        "colab": {
          "base_uri": "https://localhost:8080/"
        },
        "outputId": "2746f18b-0977-4b6e-eebd-4b3ad3ca256c"
      },
      "source": [
        "# only work in Jupyter\n",
        "%%writefile sample.txt\n",
        "Name|Phone\n",
        "John;123\n",
        "Bon;234\n",
        "Kevin;434"
      ],
      "execution_count": null,
      "outputs": [
        {
          "output_type": "stream",
          "text": [
            "Overwriting sample.txt\n"
          ],
          "name": "stdout"
        }
      ]
    },
    {
      "cell_type": "code",
      "metadata": {
        "id": "EDpv0GYmboMs"
      },
      "source": [
        "# for IDE\n",
        "# open('file_name', 'w') as file :\n",
        "#    file.write('data')"
      ],
      "execution_count": null,
      "outputs": []
    },
    {
      "cell_type": "code",
      "metadata": {
        "id": "kJHq4KGgX7LN",
        "colab": {
          "base_uri": "https://localhost:8080/"
        },
        "outputId": "603df079-8e40-4982-b4bf-e75016d26458"
      },
      "source": [
        "file = open('sample.txt')\n",
        "file"
      ],
      "execution_count": null,
      "outputs": [
        {
          "output_type": "execute_result",
          "data": {
            "text/plain": [
              "<_io.TextIOWrapper name='sample.txt' mode='r' encoding='UTF-8'>"
            ]
          },
          "metadata": {
            "tags": []
          },
          "execution_count": 46
        }
      ]
    },
    {
      "cell_type": "code",
      "metadata": {
        "id": "JtlvdcYqYGuZ",
        "colab": {
          "base_uri": "https://localhost:8080/",
          "height": 35
        },
        "outputId": "304c6b99-a6fb-4d29-e558-1cead306e430"
      },
      "source": [
        "data = file.read()\n",
        "data"
      ],
      "execution_count": null,
      "outputs": [
        {
          "output_type": "execute_result",
          "data": {
            "application/vnd.google.colaboratory.intrinsic+json": {
              "type": "string"
            },
            "text/plain": [
              "'Name|Phone\\nJohn;123\\nBon;234\\nKevin;434'"
            ]
          },
          "metadata": {
            "tags": []
          },
          "execution_count": 47
        }
      ]
    },
    {
      "cell_type": "code",
      "metadata": {
        "id": "7cGMX5DvYRnS",
        "colab": {
          "base_uri": "https://localhost:8080/"
        },
        "outputId": "07d7aef2-99c8-4b78-9260-8198ba4cf18b"
      },
      "source": [
        "print(data) # есть некий куросор, который добежал до конца файла, поэтому если мы хотим использовать снова этот метод он выведит пустоту смотри. след. пример"
      ],
      "execution_count": null,
      "outputs": [
        {
          "output_type": "stream",
          "text": [
            "Name|Phone\n",
            "John;123\n",
            "Bon;234\n",
            "Kevin;434\n"
          ],
          "name": "stdout"
        }
      ]
    },
    {
      "cell_type": "code",
      "metadata": {
        "id": "7EVT0D_qYxXY",
        "colab": {
          "base_uri": "https://localhost:8080/"
        },
        "outputId": "ae1c610e-9579-4757-c873-e78e28642fc7"
      },
      "source": [
        "print(file.read())"
      ],
      "execution_count": null,
      "outputs": [
        {
          "output_type": "stream",
          "text": [
            "\n"
          ],
          "name": "stdout"
        }
      ]
    },
    {
      "cell_type": "code",
      "metadata": {
        "id": "z27U2gcSY2jE",
        "colab": {
          "base_uri": "https://localhost:8080/"
        },
        "outputId": "6eb9e91e-1c6a-4752-d2e1-9d963c6da408"
      },
      "source": [
        "file.seek(0) # перевести курсок на нулефой байт\\ в начало файла\n",
        "print(file.read())"
      ],
      "execution_count": null,
      "outputs": [
        {
          "output_type": "stream",
          "text": [
            "Name|Phone\n",
            "John;123\n",
            "Bon;234\n",
            "Kevin;434\n"
          ],
          "name": "stdout"
        }
      ]
    },
    {
      "cell_type": "code",
      "metadata": {
        "id": "57XBBdx9Zpjw",
        "colab": {
          "base_uri": "https://localhost:8080/"
        },
        "outputId": "2636b067-f62c-4eda-ef71-64e679486e53"
      },
      "source": [
        "# afficher comme une liste\n",
        "file.seek(0) \n",
        "line = file.readline() #afiche un ligne\n",
        "print(type(line))\n",
        "print(line)\n",
        "print()\n",
        "\n",
        "lines = file.readlines() #afiche un ligne\n",
        "print(type(lines))\n",
        "print(lines)\n"
      ],
      "execution_count": null,
      "outputs": [
        {
          "output_type": "stream",
          "text": [
            "<class 'str'>\n",
            "Name|Phone\n",
            "\n",
            "\n",
            "<class 'list'>\n",
            "['John;123\\n', 'Bon;234\\n', 'Kevin;434']\n"
          ],
          "name": "stdout"
        }
      ]
    },
    {
      "cell_type": "code",
      "metadata": {
        "id": "w33GzqLjbYCd",
        "colab": {
          "base_uri": "https://localhost:8080/"
        },
        "outputId": "1bb00bdd-2bc0-4633-95bf-f2e9a7ea59c6"
      },
      "source": [
        "len(lines)"
      ],
      "execution_count": null,
      "outputs": [
        {
          "output_type": "execute_result",
          "data": {
            "text/plain": [
              "3"
            ]
          },
          "metadata": {
            "tags": []
          },
          "execution_count": 52
        }
      ]
    },
    {
      "cell_type": "code",
      "metadata": {
        "id": "3uzdsCnWzwjT"
      },
      "source": [
        "# sample = open(r'C:\\Users\\EngineerSpock\\JupyterRoot\\sample.txt') # ne marche pas parce que c'est Colab \n",
        "\n",
        "# file = open(r'C:\\Users\\EngineerSpock\\JupyterRoot\\sample.txt')\n",
        "# file = open('C:\\\\Users\\\\EngineerSpock\\\\JupyterRoot\\\\sample.txt')\n",
        "# file = open('/Users/EngineerSpock/JupyterRoot/sample.txt')"
      ],
      "execution_count": null,
      "outputs": []
    },
    {
      "cell_type": "code",
      "metadata": {
        "id": "Kz6hoz-NzzDk"
      },
      "source": [
        "file.close()\n",
        "# sample.close()"
      ],
      "execution_count": null,
      "outputs": []
    },
    {
      "cell_type": "code",
      "metadata": {
        "id": "BSa4sUwc1Cy1",
        "colab": {
          "base_uri": "https://localhost:8080/"
        },
        "outputId": "fa2bf647-0d18-4a71-d6d6-e45c47a4c3c6"
      },
      "source": [
        "print(file.closed)"
      ],
      "execution_count": null,
      "outputs": [
        {
          "output_type": "stream",
          "text": [
            "True\n"
          ],
          "name": "stdout"
        }
      ]
    },
    {
      "cell_type": "code",
      "metadata": {
        "id": "KGNHqWRj2lrN"
      },
      "source": [
        "with open('sample.txt') as sample :\n",
        "  s = sample.read()\n",
        "# file will close autaumatiqement"
      ],
      "execution_count": null,
      "outputs": []
    },
    {
      "cell_type": "code",
      "metadata": {
        "id": "6Hp3kdNW3WJe",
        "colab": {
          "base_uri": "https://localhost:8080/"
        },
        "outputId": "d20f8f6f-0cfa-43d0-c4a8-7d2afa134f5d"
      },
      "source": [
        "print(s)"
      ],
      "execution_count": null,
      "outputs": [
        {
          "output_type": "stream",
          "text": [
            "Name|Phone\n",
            "John;123\n",
            "Bon;234\n",
            "Kevin;434\n"
          ],
          "name": "stdout"
        }
      ]
    },
    {
      "cell_type": "code",
      "metadata": {
        "id": "yskbTFhD3mso"
      },
      "source": [
        "# mode\n",
        "# r  - only reading; error with writing\n",
        "# w  - write; error with reading\n",
        "# a  - append, une fiche doit déjà exister\n",
        "# r+ - reading + writing; une fiche doit déjà exister\n",
        "# w+ - reading + writing; "
      ],
      "execution_count": null,
      "outputs": []
    },
    {
      "cell_type": "code",
      "metadata": {
        "id": "j6JyZpQV4hHb"
      },
      "source": [
        "with open('sample.txt', 'a') as sample :\n",
        "  sample.write('\\nEric;98765')"
      ],
      "execution_count": null,
      "outputs": []
    },
    {
      "cell_type": "code",
      "metadata": {
        "id": "OtkOM5kP5NU8",
        "colab": {
          "base_uri": "https://localhost:8080/"
        },
        "outputId": "b657f332-3f5c-4939-b240-fbcd50c16d87"
      },
      "source": [
        "with open('sample.txt', 'r') as sample :\n",
        "  print(sample.read())"
      ],
      "execution_count": null,
      "outputs": [
        {
          "output_type": "stream",
          "text": [
            "Name|Phone\n",
            "John;123\n",
            "Bon;234\n",
            "Kevin;434\n",
            "Eric;98765\n"
          ],
          "name": "stdout"
        }
      ]
    },
    {
      "cell_type": "code",
      "metadata": {
        "id": "xxQ-yEWiDLm_",
        "colab": {
          "base_uri": "https://localhost:8080/"
        },
        "outputId": "29320d25-15e4-4c0b-f48c-afedd72dd409"
      },
      "source": [
        "with open('sample.txt', 'r+') as sample : # read + add new line\n",
        "  sample.seek(0, 2) # начинаем читать файл с конца файла (0, 1) относительно курсора\n",
        "  sample.write(\"\\nLuc;0091\")\n",
        "  sample.seek(0)\n",
        "  print(sample.read())"
      ],
      "execution_count": null,
      "outputs": [
        {
          "output_type": "stream",
          "text": [
            "Name|Phone\n",
            "John;123\n",
            "Bon;234\n",
            "Kevin;434\n",
            "Eric;98765\n",
            "Luc;0091\n"
          ],
          "name": "stdout"
        }
      ]
    },
    {
      "cell_type": "code",
      "metadata": {
        "id": "H1cHteForSLt"
      },
      "source": [
        "with open('sonic.txt', 'w') as sonic:\n",
        "  sonic.write('moving fast')\n",
        "  sonic.seek(0)\n",
        "  # print(sonic.read()) --- donne une faut, a cause de 'w'"
      ],
      "execution_count": null,
      "outputs": []
    },
    {
      "cell_type": "code",
      "metadata": {
        "id": "zW6HIqxJr9Jl",
        "colab": {
          "base_uri": "https://localhost:8080/"
        },
        "outputId": "50dc246a-d3b7-4722-a5b9-4802c420e399"
      },
      "source": [
        "with open('sonic.txt', 'w+') as sonic:\n",
        "  sonic.write('moving fast')\n",
        "  sonic.seek(0)\n",
        "  print(sonic.read()) # ca va"
      ],
      "execution_count": null,
      "outputs": [
        {
          "output_type": "stream",
          "text": [
            "moving fast\n"
          ],
          "name": "stdout"
        }
      ]
    },
    {
      "cell_type": "markdown",
      "metadata": {
        "id": "DMLZwPlYsNaP"
      },
      "source": [
        "## Bytes"
      ]
    },
    {
      "cell_type": "code",
      "metadata": {
        "id": "NPseTqLcsGgK",
        "colab": {
          "base_uri": "https://localhost:8080/",
          "height": 35
        },
        "outputId": "ccb17d5a-2979-496e-966e-3536ad7be61a"
      },
      "source": [
        "import sys\n",
        "sys.getdefaultencoding()"
      ],
      "execution_count": null,
      "outputs": [
        {
          "output_type": "execute_result",
          "data": {
            "application/vnd.google.colaboratory.intrinsic+json": {
              "type": "string"
            },
            "text/plain": [
              "'utf-8'"
            ]
          },
          "metadata": {
            "tags": []
          },
          "execution_count": 67
        }
      ]
    },
    {
      "cell_type": "code",
      "metadata": {
        "id": "if5hCcFrs3pC",
        "colab": {
          "base_uri": "https://localhost:8080/"
        },
        "outputId": "df31ec73-21d3-43e6-b975-e4e91b011f09"
      },
      "source": [
        "ord('a') # combien se dymboles"
      ],
      "execution_count": null,
      "outputs": [
        {
          "output_type": "execute_result",
          "data": {
            "text/plain": [
              "97"
            ]
          },
          "metadata": {
            "tags": []
          },
          "execution_count": 68
        }
      ]
    },
    {
      "cell_type": "code",
      "metadata": {
        "id": "3AvKQHaEs9Un",
        "colab": {
          "base_uri": "https://localhost:8080/",
          "height": 35
        },
        "outputId": "58f51265-33a9-49b9-c961-991030994140"
      },
      "source": [
        "chr(97) # quelle character"
      ],
      "execution_count": null,
      "outputs": [
        {
          "output_type": "execute_result",
          "data": {
            "application/vnd.google.colaboratory.intrinsic+json": {
              "type": "string"
            },
            "text/plain": [
              "'a'"
            ]
          },
          "metadata": {
            "tags": []
          },
          "execution_count": 69
        }
      ]
    },
    {
      "cell_type": "code",
      "metadata": {
        "id": "oIKfezqstDsE",
        "colab": {
          "base_uri": "https://localhost:8080/",
          "height": 35
        },
        "outputId": "d3d3dc8c-5cf8-41d6-cbd6-4509ed0b3804"
      },
      "source": [
        "chr(198) # 0 - 127 n'est pas limite "
      ],
      "execution_count": null,
      "outputs": [
        {
          "output_type": "execute_result",
          "data": {
            "application/vnd.google.colaboratory.intrinsic+json": {
              "type": "string"
            },
            "text/plain": [
              "'Æ'"
            ]
          },
          "metadata": {
            "tags": []
          },
          "execution_count": 70
        }
      ]
    },
    {
      "cell_type": "code",
      "metadata": {
        "id": "KQhFMOXXtSO3",
        "colab": {
          "base_uri": "https://localhost:8080/"
        },
        "outputId": "d7447654-4d00-40ee-e5e2-28d6ba386975"
      },
      "source": [
        "s = 'world'\n",
        "enc_ascii = s.encode('ascii')\n",
        "enc_utf8 = s.encode('utf8')\n",
        "enc_utf16 = s.encode('utf16')\n",
        "\n",
        "print(enc_ascii, type(enc_ascii), len(enc_ascii))\n",
        "print(enc_utf8, type(enc_utf8), len(enc_utf8))\n",
        "print(enc_utf16, type(enc_utf16), len(enc_utf16))"
      ],
      "execution_count": null,
      "outputs": [
        {
          "output_type": "stream",
          "text": [
            "b'world' <class 'bytes'> 5\n",
            "b'world' <class 'bytes'> 5\n",
            "b'\\xff\\xfew\\x00o\\x00r\\x00l\\x00d\\x00' <class 'bytes'> 12\n"
          ],
          "name": "stdout"
        }
      ]
    },
    {
      "cell_type": "code",
      "metadata": {
        "id": "Goj2jfmlt88M",
        "colab": {
          "base_uri": "https://localhost:8080/"
        },
        "outputId": "967054cd-a4c5-4dd1-a167-4012ce685030"
      },
      "source": [
        "str_in_byte = b'world'\n",
        "str_in_bytes = s.encode('utf8')\n",
        "str_in_text = 'world'\n",
        "\n",
        "print(type(str_in_byte))\n",
        "print(type(str_in_bytes))\n",
        "print(type(str_in_text))\n",
        "print()\n",
        "\n",
        "print('bytes'.encode('utf8'))\n",
        "print('байты'.encode('utf8'))\n",
        "print()\n"
      ],
      "execution_count": null,
      "outputs": [
        {
          "output_type": "stream",
          "text": [
            "<class 'bytes'>\n",
            "<class 'bytes'>\n",
            "<class 'str'>\n",
            "\n",
            "b'bytes'\n",
            "b'\\xd0\\xb1\\xd0\\xb0\\xd0\\xb9\\xd1\\x82\\xd1\\x8b'\n",
            "\n"
          ],
          "name": "stdout"
        }
      ]
    },
    {
      "cell_type": "code",
      "metadata": {
        "id": "BAOPLIfYwa8P",
        "colab": {
          "base_uri": "https://localhost:8080/"
        },
        "outputId": "c28fc556-3d4c-4137-f397-18c06af7d5b2"
      },
      "source": [
        "# bytes qu'on peut changer\n",
        "\n",
        "ba = bytearray(b'horld')\n",
        "ba[0] = 87\n",
        "print(ba)"
      ],
      "execution_count": null,
      "outputs": [
        {
          "output_type": "stream",
          "text": [
            "bytearray(b'World')\n"
          ],
          "name": "stdout"
        }
      ]
    },
    {
      "cell_type": "code",
      "metadata": {
        "id": "mfNyh3g0y4cl",
        "colab": {
          "base_uri": "https://localhost:8080/"
        },
        "outputId": "1878c036-f83c-438a-e2d8-13d704d15e74"
      },
      "source": [
        "# il ne faut pas faire, c'est une longeur - b'world', mail il faut afficher une longeur - world\n",
        "print(\"# il ne faut pas faire, c'est une longeur - b'world', mail il faut afficher une longeur - world\")\n",
        "result = str(str_in_bytes)\n",
        "print(result)\n",
        "print(len(result))\n",
        "print()\n",
        "\n",
        "# il faut utiliser utf8\n",
        "print(\"# il faut utiliser utf8\")\n",
        "result = str(str_in_bytes, 'utf8')\n",
        "print(result)\n",
        "print(len(result))\n",
        "print()\n",
        "\n",
        "# il mieux utiliser 'decode'\n",
        "print(\"# il mieux utiliser 'decode'\")\n",
        "result = str_in_bytes.decode('utf8')\n",
        "print(result)\n",
        "print(len(result))\n",
        "\n",
        "print()"
      ],
      "execution_count": null,
      "outputs": [
        {
          "output_type": "stream",
          "text": [
            "# il ne faut pas faire, c'est une longeur - b'world', mail il faut afficher une longeur - world\n",
            "b'world'\n",
            "8\n",
            "\n",
            "# il faut utiliser utf8\n",
            "world\n",
            "5\n",
            "\n",
            "# il mieux utiliser 'decode'\n",
            "world\n",
            "5\n",
            "\n"
          ],
          "name": "stdout"
        }
      ]
    },
    {
      "cell_type": "code",
      "metadata": {
        "id": "EEtvA35SAlgI"
      },
      "source": [
        "jpeg = [78, 0, 82,0, 100] # int comporte aussi les bytes\n",
        "with open(r'btest.bin', 'w+b') as file :\n",
        "  file.write(bytes(jpeg))"
      ],
      "execution_count": null,
      "outputs": []
    },
    {
      "cell_type": "code",
      "metadata": {
        "id": "zOjIia7lu4TD",
        "colab": {
          "base_uri": "https://localhost:8080/"
        },
        "outputId": "d2aba25a-b4f6-4263-c56b-2c6cbe83cab6"
      },
      "source": [
        "with open(r'btest.bin', 'rb') as file :\n",
        "  data = file.read()\n",
        "  for b in data:\n",
        "    print(int(b))"
      ],
      "execution_count": null,
      "outputs": [
        {
          "output_type": "stream",
          "text": [
            "78\n",
            "0\n",
            "82\n",
            "0\n",
            "100\n"
          ],
          "name": "stdout"
        }
      ]
    },
    {
      "cell_type": "markdown",
      "metadata": {
        "id": "AIzu7yQwZZwX"
      },
      "source": [
        "## Operations mathematiques"
      ]
    },
    {
      "cell_type": "code",
      "metadata": {
        "id": "2NNEhzqSYGMi",
        "colab": {
          "base_uri": "https://localhost:8080/"
        },
        "outputId": "ac7edbb4-ccb4-482f-8cb4-d6716fe35207"
      },
      "source": [
        "0+1"
      ],
      "execution_count": null,
      "outputs": [
        {
          "output_type": "execute_result",
          "data": {
            "text/plain": [
              "1"
            ]
          },
          "metadata": {
            "tags": []
          },
          "execution_count": 11
        }
      ]
    },
    {
      "cell_type": "code",
      "metadata": {
        "id": "x0ZbvuDyYO6H",
        "colab": {
          "base_uri": "https://localhost:8080/"
        },
        "outputId": "6f2b8e8f-6057-41e9-d15b-2a392f226461"
      },
      "source": [
        "1+2"
      ],
      "execution_count": null,
      "outputs": [
        {
          "output_type": "execute_result",
          "data": {
            "text/plain": [
              "3"
            ]
          },
          "metadata": {
            "tags": []
          },
          "execution_count": 12
        }
      ]
    },
    {
      "cell_type": "code",
      "metadata": {
        "id": "1mNOe4_ZYRCt",
        "colab": {
          "base_uri": "https://localhost:8080/"
        },
        "outputId": "1c547a51-ea38-46d9-f80b-0d5c7871d483"
      },
      "source": [
        "3-1"
      ],
      "execution_count": null,
      "outputs": [
        {
          "output_type": "execute_result",
          "data": {
            "text/plain": [
              "2"
            ]
          },
          "metadata": {
            "tags": []
          },
          "execution_count": 13
        }
      ]
    },
    {
      "cell_type": "code",
      "metadata": {
        "id": "RVHQNRBrYS7Q",
        "colab": {
          "base_uri": "https://localhost:8080/"
        },
        "outputId": "fdfa8902-531a-403b-e8ad-3caa78932289"
      },
      "source": [
        "3-5"
      ],
      "execution_count": null,
      "outputs": [
        {
          "output_type": "execute_result",
          "data": {
            "text/plain": [
              "-2"
            ]
          },
          "metadata": {
            "tags": []
          },
          "execution_count": 14
        }
      ]
    },
    {
      "cell_type": "code",
      "metadata": {
        "id": "hA-IvCcMYVAL",
        "colab": {
          "base_uri": "https://localhost:8080/"
        },
        "outputId": "9cd5c40b-e0a3-47f4-ea7d-4c2c56abe151"
      },
      "source": [
        "6/2\n",
        "\n",
        "# '/' - le resultat toujours 'float'"
      ],
      "execution_count": null,
      "outputs": [
        {
          "output_type": "execute_result",
          "data": {
            "text/plain": [
              "3.0"
            ]
          },
          "metadata": {
            "tags": []
          },
          "execution_count": 15
        }
      ]
    },
    {
      "cell_type": "code",
      "metadata": {
        "id": "BYKPOTl0YXtp",
        "colab": {
          "base_uri": "https://localhost:8080/"
        },
        "outputId": "0da5d2ee-5b62-4c54-be45-2e0c7e471870"
      },
      "source": [
        "1/1"
      ],
      "execution_count": null,
      "outputs": [
        {
          "output_type": "execute_result",
          "data": {
            "text/plain": [
              "1.0"
            ]
          },
          "metadata": {
            "tags": []
          },
          "execution_count": 16
        }
      ]
    },
    {
      "cell_type": "code",
      "metadata": {
        "id": "TfaLCfHeYZ5K",
        "colab": {
          "base_uri": "https://localhost:8080/"
        },
        "outputId": "cc9190bc-1f30-4d10-e9e8-0c79d7e86d19"
      },
      "source": [
        "7/2"
      ],
      "execution_count": null,
      "outputs": [
        {
          "output_type": "execute_result",
          "data": {
            "text/plain": [
              "3.5"
            ]
          },
          "metadata": {
            "tags": []
          },
          "execution_count": 17
        }
      ]
    },
    {
      "cell_type": "code",
      "metadata": {
        "id": "2QrqJK-BYdNP",
        "colab": {
          "base_uri": "https://localhost:8080/"
        },
        "outputId": "725bab2e-1f12-4160-eca1-3e75a40589ad"
      },
      "source": [
        "2.0+1"
      ],
      "execution_count": null,
      "outputs": [
        {
          "output_type": "execute_result",
          "data": {
            "text/plain": [
              "3.0"
            ]
          },
          "metadata": {
            "tags": []
          },
          "execution_count": 18
        }
      ]
    },
    {
      "cell_type": "code",
      "metadata": {
        "id": "CRAAvcxwYiGt",
        "colab": {
          "base_uri": "https://localhost:8080/"
        },
        "outputId": "48b63632-ba1f-40f5-98bc-aa46a4eeebfb"
      },
      "source": [
        "2*5"
      ],
      "execution_count": null,
      "outputs": [
        {
          "output_type": "execute_result",
          "data": {
            "text/plain": [
              "10"
            ]
          },
          "metadata": {
            "tags": []
          },
          "execution_count": 19
        }
      ]
    },
    {
      "cell_type": "code",
      "metadata": {
        "id": "QqTk2ssWYkk0",
        "colab": {
          "base_uri": "https://localhost:8080/"
        },
        "outputId": "eab7013e-96cb-44cc-d504-ad030f222db6"
      },
      "source": [
        "1.2*3"
      ],
      "execution_count": null,
      "outputs": [
        {
          "output_type": "execute_result",
          "data": {
            "text/plain": [
              "3.5999999999999996"
            ]
          },
          "metadata": {
            "tags": []
          },
          "execution_count": 20
        }
      ]
    },
    {
      "cell_type": "code",
      "metadata": {
        "id": "J8Nh8GgaYncx",
        "colab": {
          "base_uri": "https://localhost:8080/"
        },
        "outputId": "b344a9d0-43dc-4e05-9d1f-b01051e73d17"
      },
      "source": [
        "round(1.2*3, 2)"
      ],
      "execution_count": null,
      "outputs": [
        {
          "output_type": "execute_result",
          "data": {
            "text/plain": [
              "3.6"
            ]
          },
          "metadata": {
            "tags": []
          },
          "execution_count": 21
        }
      ]
    },
    {
      "cell_type": "code",
      "metadata": {
        "id": "84SMc1ogYrAu",
        "colab": {
          "base_uri": "https://localhost:8080/"
        },
        "outputId": "576d5651-094f-4c51-ee19-72aabb2ab0b2"
      },
      "source": [
        "3%2"
      ],
      "execution_count": null,
      "outputs": [
        {
          "output_type": "execute_result",
          "data": {
            "text/plain": [
              "1"
            ]
          },
          "metadata": {
            "tags": []
          },
          "execution_count": 22
        }
      ]
    },
    {
      "cell_type": "code",
      "metadata": {
        "id": "0VLILy87aGYs",
        "colab": {
          "base_uri": "https://localhost:8080/"
        },
        "outputId": "a7430d48-b5d9-4dfa-b6a2-2d46edff3055"
      },
      "source": [
        "3%2 == 0"
      ],
      "execution_count": null,
      "outputs": [
        {
          "output_type": "execute_result",
          "data": {
            "text/plain": [
              "False"
            ]
          },
          "metadata": {
            "tags": []
          },
          "execution_count": 23
        }
      ]
    },
    {
      "cell_type": "code",
      "metadata": {
        "id": "IUlVqPTpaKl6",
        "colab": {
          "base_uri": "https://localhost:8080/"
        },
        "outputId": "67fbfc58-10aa-4627-9877-35820a1a532e"
      },
      "source": [
        "4%2"
      ],
      "execution_count": null,
      "outputs": [
        {
          "output_type": "execute_result",
          "data": {
            "text/plain": [
              "0"
            ]
          },
          "metadata": {
            "tags": []
          },
          "execution_count": 24
        }
      ]
    },
    {
      "cell_type": "code",
      "metadata": {
        "id": "lPU9Udo4aObJ",
        "colab": {
          "base_uri": "https://localhost:8080/"
        },
        "outputId": "b4501f90-9d39-43a4-c9a5-ec0f45d6895d"
      },
      "source": [
        "4%2 == 0"
      ],
      "execution_count": null,
      "outputs": [
        {
          "output_type": "execute_result",
          "data": {
            "text/plain": [
              "True"
            ]
          },
          "metadata": {
            "tags": []
          },
          "execution_count": 25
        }
      ]
    },
    {
      "cell_type": "code",
      "metadata": {
        "id": "pvs1TJhqY00S",
        "colab": {
          "base_uri": "https://localhost:8080/"
        },
        "outputId": "480bb142-6123-4b44-d1ff-95fad3f5a4b6"
      },
      "source": [
        "2*2*2*2"
      ],
      "execution_count": null,
      "outputs": [
        {
          "output_type": "execute_result",
          "data": {
            "text/plain": [
              "16"
            ]
          },
          "metadata": {
            "tags": []
          },
          "execution_count": 26
        }
      ]
    },
    {
      "cell_type": "code",
      "metadata": {
        "id": "jVaMIvoUY3pX",
        "colab": {
          "base_uri": "https://localhost:8080/"
        },
        "outputId": "8d6cdabe-fa04-47c3-ff62-7541fb08957e"
      },
      "source": [
        "2**4"
      ],
      "execution_count": null,
      "outputs": [
        {
          "output_type": "execute_result",
          "data": {
            "text/plain": [
              "16"
            ]
          },
          "metadata": {
            "tags": []
          },
          "execution_count": 27
        }
      ]
    },
    {
      "cell_type": "code",
      "metadata": {
        "id": "HJOLBL8ZY7Vk",
        "colab": {
          "base_uri": "https://localhost:8080/"
        },
        "outputId": "563b861a-e746-4865-f319-c1d6e6aab9fb"
      },
      "source": [
        "2+2*2"
      ],
      "execution_count": null,
      "outputs": [
        {
          "output_type": "execute_result",
          "data": {
            "text/plain": [
              "6"
            ]
          },
          "metadata": {
            "tags": []
          },
          "execution_count": 28
        }
      ]
    },
    {
      "cell_type": "code",
      "metadata": {
        "id": "MDvpv0ySY92q",
        "colab": {
          "base_uri": "https://localhost:8080/"
        },
        "outputId": "a9a18a16-c153-43ba-f5c4-57c0ade21417"
      },
      "source": [
        "(2+2)*2"
      ],
      "execution_count": null,
      "outputs": [
        {
          "output_type": "execute_result",
          "data": {
            "text/plain": [
              "8"
            ]
          },
          "metadata": {
            "tags": []
          },
          "execution_count": 29
        }
      ]
    },
    {
      "cell_type": "code",
      "metadata": {
        "id": "C5KPp71xZBrh",
        "colab": {
          "base_uri": "https://localhost:8080/"
        },
        "outputId": "28af642c-dfd1-4118-ae54-cd62e477eced"
      },
      "source": [
        "(2+2)*2+3*(6/2)"
      ],
      "execution_count": null,
      "outputs": [
        {
          "output_type": "execute_result",
          "data": {
            "text/plain": [
              "17.0"
            ]
          },
          "metadata": {
            "tags": []
          },
          "execution_count": 30
        }
      ]
    },
    {
      "cell_type": "code",
      "metadata": {
        "id": "aKy_AzFTZRRX",
        "colab": {
          "base_uri": "https://localhost:8080/"
        },
        "outputId": "a6b8755d-ee5f-4758-8e60-7e589f5ecb62"
      },
      "source": [
        "2**38"
      ],
      "execution_count": null,
      "outputs": [
        {
          "output_type": "execute_result",
          "data": {
            "text/plain": [
              "274877906944"
            ]
          },
          "metadata": {
            "tags": []
          },
          "execution_count": 31
        }
      ]
    },
    {
      "cell_type": "code",
      "metadata": {
        "id": "tY384LTIZUHp",
        "colab": {
          "base_uri": "https://localhost:8080/"
        },
        "outputId": "f9329d3f-e16b-404b-8418-db39204ce4e8"
      },
      "source": [
        "2**64"
      ],
      "execution_count": null,
      "outputs": [
        {
          "output_type": "execute_result",
          "data": {
            "text/plain": [
              "18446744073709551616"
            ]
          },
          "metadata": {
            "tags": []
          },
          "execution_count": 32
        }
      ]
    },
    {
      "cell_type": "markdown",
      "metadata": {
        "id": "LTLMf02Ma6VX"
      },
      "source": [
        "## Variables et operation de comparaison"
      ]
    },
    {
      "cell_type": "code",
      "metadata": {
        "id": "3ihUuJ65a9qk",
        "colab": {
          "base_uri": "https://localhost:8080/"
        },
        "outputId": "01c12814-5481-4324-cc72-65aae4b63e1e"
      },
      "source": [
        "# En tant que Python est dinamiaque - permet de changer le type de variable :\n",
        "\n",
        "x = 3\n",
        "print(x, type(x))\n",
        "\n",
        "x = float(x)\n",
        "print(x, type(x))\n",
        "\n",
        "x = 3.14\n",
        "print(x, type(x))"
      ],
      "execution_count": null,
      "outputs": [
        {
          "output_type": "stream",
          "text": [
            "3 <class 'int'>\n",
            "3.0 <class 'float'>\n",
            "3.14 <class 'float'>\n"
          ],
          "name": "stdout"
        }
      ]
    },
    {
      "cell_type": "code",
      "metadata": {
        "id": "vGyTCDh5b9ti"
      },
      "source": [
        "# strongly typed \\ fortement typé - il ne faut pas combiner deux type incombinées  :\n",
        "\n",
        "q = \"sting\"\n",
        "# x + q"
      ],
      "execution_count": null,
      "outputs": []
    },
    {
      "cell_type": "code",
      "metadata": {
        "id": "6JbhUB_edHHn",
        "colab": {
          "base_uri": "https://localhost:8080/"
        },
        "outputId": "3da699d2-daab-4b91-c728-ac074816309f"
      },
      "source": [
        "a = True\n",
        "b = False\n",
        "\n",
        "a == b"
      ],
      "execution_count": null,
      "outputs": [
        {
          "output_type": "execute_result",
          "data": {
            "text/plain": [
              "False"
            ]
          },
          "metadata": {
            "tags": []
          },
          "execution_count": 35
        }
      ]
    },
    {
      "cell_type": "code",
      "metadata": {
        "id": "8USQ_5sUeEcf",
        "colab": {
          "base_uri": "https://localhost:8080/"
        },
        "outputId": "82c56c7e-172c-4ae6-a5c5-cc9a4052782c"
      },
      "source": [
        "a != b"
      ],
      "execution_count": null,
      "outputs": [
        {
          "output_type": "execute_result",
          "data": {
            "text/plain": [
              "True"
            ]
          },
          "metadata": {
            "tags": []
          },
          "execution_count": 36
        }
      ]
    },
    {
      "cell_type": "code",
      "metadata": {
        "id": "ZFWdZROLeJDU",
        "colab": {
          "base_uri": "https://localhost:8080/"
        },
        "outputId": "3a206d03-9357-4132-a6da-479b71917aba"
      },
      "source": [
        "a >= b"
      ],
      "execution_count": null,
      "outputs": [
        {
          "output_type": "execute_result",
          "data": {
            "text/plain": [
              "True"
            ]
          },
          "metadata": {
            "tags": []
          },
          "execution_count": 37
        }
      ]
    },
    {
      "cell_type": "code",
      "metadata": {
        "id": "cnwFKLy6eK72",
        "colab": {
          "base_uri": "https://localhost:8080/"
        },
        "outputId": "beeee0fb-c33d-4580-b7a3-d89202af9f4f"
      },
      "source": [
        "a <= b"
      ],
      "execution_count": null,
      "outputs": [
        {
          "output_type": "execute_result",
          "data": {
            "text/plain": [
              "False"
            ]
          },
          "metadata": {
            "tags": []
          },
          "execution_count": 38
        }
      ]
    },
    {
      "cell_type": "code",
      "metadata": {
        "id": "AxFi7-G9eOWk",
        "colab": {
          "base_uri": "https://localhost:8080/"
        },
        "outputId": "4dc219d7-ca1f-424f-ab40-4ed834f5a8c7"
      },
      "source": [
        "a < b"
      ],
      "execution_count": null,
      "outputs": [
        {
          "output_type": "execute_result",
          "data": {
            "text/plain": [
              "False"
            ]
          },
          "metadata": {
            "tags": []
          },
          "execution_count": 39
        }
      ]
    },
    {
      "cell_type": "code",
      "metadata": {
        "id": "cMOiZPnTeQiC",
        "colab": {
          "base_uri": "https://localhost:8080/"
        },
        "outputId": "b302740f-3593-409e-ab8f-261e162101a8"
      },
      "source": [
        "a > b"
      ],
      "execution_count": null,
      "outputs": [
        {
          "output_type": "execute_result",
          "data": {
            "text/plain": [
              "True"
            ]
          },
          "metadata": {
            "tags": []
          },
          "execution_count": 40
        }
      ]
    },
    {
      "cell_type": "code",
      "metadata": {
        "id": "pDM9p0fneSip",
        "colab": {
          "base_uri": "https://localhost:8080/"
        },
        "outputId": "938eec26-5bbd-498c-daa9-ae89d9d0324b"
      },
      "source": [
        "a == None"
      ],
      "execution_count": null,
      "outputs": [
        {
          "output_type": "execute_result",
          "data": {
            "text/plain": [
              "False"
            ]
          },
          "metadata": {
            "tags": []
          },
          "execution_count": 41
        }
      ]
    },
    {
      "cell_type": "code",
      "metadata": {
        "id": "U-0qh0nbTJfO",
        "colab": {
          "base_uri": "https://localhost:8080/"
        },
        "outputId": "454823f0-7cc2-4a96-9246-c60d28ae4263"
      },
      "source": [
        "# operation de comparaison\n",
        "\n",
        "print('-------------------- 1 --------------------')\n",
        "print(2 > 2)\n",
        "print(2 >= 2)\n",
        "print(3 >= 2)\n",
        "print(3 >= 4)\n",
        "print()\n",
        "print('-------------------- 2 --------------------')\n",
        "print(2 < 2)\n",
        "print(2 <= 2)\n",
        "print(3 <= 2)\n",
        "print(3 <= 4)\n",
        "print()\n",
        "print('-------------------- 3 --------------------')\n",
        "print(1 == 1)\n",
        "print(1 != 1)\n",
        "print()\n",
        "print('-------------------- 4 --------------------')\n",
        "print('stirng' == 'stirng' )\n",
        "print('1' != 1)\n",
        "print('-------------------- 5 --------------------')\n",
        "# ignore registre\n",
        "q = 'stirng'\n",
        "g = 'Stirng'\n",
        "print(q.lower() == g.lower())\n",
        "\n",
        "print('-------------------- 6 --------------------')\n",
        "# chaining\n",
        "print(1 < 2 < 3)\n",
        "print(1 > 2 and 2 < 3 ) \n",
        "\n",
        "print('-------------------- 7 --------------------')\n",
        "is_admin = True\n",
        "file_exist = True\n",
        "should_open_file = is_admin and file_exist\n",
        "print(should_open_file)\n",
        "print()\n",
        "\n",
        "print('-------------------- 7 --------------------')\n",
        "\n",
        "# 1\n",
        "if not is_admin:\n",
        "  print('admin is not exist')\n",
        "else :\n",
        "  print(is_admin)\n",
        "\n",
        "# 2\n",
        "if is_admin == False :\n",
        "  print('admin is not exist')\n",
        "else :\n",
        "  print(is_admin)\n",
        "\n"
      ],
      "execution_count": null,
      "outputs": [
        {
          "output_type": "stream",
          "text": [
            "-------------------- 1 --------------------\n",
            "False\n",
            "True\n",
            "True\n",
            "False\n",
            "\n",
            "-------------------- 2 --------------------\n",
            "False\n",
            "True\n",
            "False\n",
            "True\n",
            "\n",
            "-------------------- 3 --------------------\n",
            "True\n",
            "False\n",
            "\n",
            "-------------------- 4 --------------------\n",
            "True\n",
            "True\n",
            "-------------------- 5 --------------------\n",
            "True\n",
            "-------------------- 6 --------------------\n",
            "True\n",
            "False\n",
            "-------------------- 7 --------------------\n",
            "True\n",
            "\n",
            "-------------------- 7 --------------------\n",
            "True\n",
            "True\n"
          ],
          "name": "stdout"
        }
      ]
    },
    {
      "cell_type": "markdown",
      "metadata": {
        "id": "A17LIXsbDXLF"
      },
      "source": [
        "# Bilan \n",
        "1. Types de données ()\n",
        "2. Operations mathematiques\n",
        "3. Variables et operation de comparaison\n",
        "4. Work with file system\n",
        "5. Bytes\n"
      ]
    }
  ]
}