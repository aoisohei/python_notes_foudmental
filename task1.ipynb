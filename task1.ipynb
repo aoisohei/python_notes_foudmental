{
  "nbformat": 4,
  "nbformat_minor": 0,
  "metadata": {
    "colab": {
      "name": "task1.ipynb",
      "provenance": [],
      "collapsed_sections": [],
      "authorship_tag": "ABX9TyPxYmIQ6WBYmwpG8TpE12Ae",
      "include_colab_link": true
    },
    "kernelspec": {
      "name": "python3",
      "display_name": "Python 3"
    }
  },
  "cells": [
    {
      "cell_type": "markdown",
      "metadata": {
        "id": "view-in-github",
        "colab_type": "text"
      },
      "source": [
        "<a href=\"https://colab.research.google.com/github/aoisohei/python_notes_foudmental/blob/main/task1.ipynb\" target=\"_parent\"><img src=\"https://colab.research.google.com/assets/colab-badge.svg\" alt=\"Open In Colab\"/></a>"
      ]
    },
    {
      "cell_type": "code",
      "metadata": {
        "id": "9WZJ9LYiJJbT",
        "outputId": "2a4fe89a-663a-45a4-dcee-e6d4159a29d2",
        "colab": {
          "base_uri": "https://localhost:8080/"
        }
      },
      "source": [
        "# cups + every 6th is free\n",
        "\n",
        "cups = input()\n",
        "cups = int(cups) \n",
        "if(cups >= 6):\n",
        "  c = int(cups)\n",
        "  if (cups % 6 != 0):\n",
        "    p = c / 6\n",
        "    p = int(p)\n",
        "    q = (p+1)*6\n",
        "    q = q - c \n",
        "    print(\"Vous avez :\", p, \" cups. Encore on a besoin d'acheter : \", q)\n",
        "  else :\n",
        "    p = cups / 6 \n",
        "    print(\"Vous avez :\", int(p), \"cups.\")\n",
        "elif(int(cups/6)==0):\n",
        "  print(\"Vous avez :\", 0)\n",
        " \n"
      ],
      "execution_count": 50,
      "outputs": [
        {
          "output_type": "stream",
          "text": [
            "-1\n",
            "Vous avez : 0\n"
          ],
          "name": "stdout"
        }
      ]
    },
    {
      "cell_type": "code",
      "metadata": {
        "id": "IMxqVdG6QUjp",
        "outputId": "735d6427-1049-41a5-cb69-28c065576fea",
        "colab": {
          "base_uri": "https://localhost:8080/"
        }
      },
      "source": [
        "# distanse between coordinate\n",
        "\n",
        "import math\n",
        "print('Point 1')\n",
        "x1 = input()\n",
        "y1 = input()\n",
        "print('Point 2')\n",
        "x2 = input()\n",
        "y2 = input()\n",
        "\n",
        "x1 = int(x1)\n",
        "y1 = int(y1)\n",
        "x2 = int(x2)\n",
        "y2 = int(y2)\n",
        " \n",
        "print(round(math.sqrt((x1 - x2)**2 + (y1 - y2)**2), 3))"
      ],
      "execution_count": 59,
      "outputs": [
        {
          "output_type": "stream",
          "text": [
            "Point 1\n",
            "-2\n",
            "11\n",
            "Point 2\n",
            "24\n",
            "23\n",
            "28.636\n"
          ],
          "name": "stdout"
        }
      ]
    },
    {
      "cell_type": "code",
      "metadata": {
        "id": "c_CX6k3GSssP",
        "outputId": "90bcfcf6-b47e-4ada-8188-220bfbc5b9fe",
        "colab": {
          "base_uri": "https://localhost:8080/"
        }
      },
      "source": [
        "# count of animals \n",
        "\n",
        "kurva = input()\n",
        "korova = input()\n",
        "pigs = input()\n",
        "\n",
        "kurva = int(kurva)\n",
        "korova = int(korova)\n",
        "pigs = int(pigs)\n",
        "\n",
        "if(korova == 0 and pigs == 0 and kurva == 0 ):\n",
        "  print('Empty')\n",
        "\n",
        "elif(kurva == 0 ):\n",
        "  print('Total = ', korova*4+pigs*4 )\n",
        "\n",
        "elif(korova == 0 ):\n",
        "  print('Total = ', kurva*2+pigs*4 )\n",
        "\n",
        "elif(pigs == 0 ): \n",
        "  print('Total = ', kurva*2+korova*4 )\n",
        "\n",
        "elif(korova == 0 and kurva == 0  ):\n",
        "  print('Total = ', pigs*4 )\n",
        "\n",
        "elif(kurva == 0 and pigs == 0  ):\n",
        "  print('Total = ', korova*4 )\n",
        "\n",
        "elif(korova == 0 and pigs == 0  ):\n",
        "  print('Total = ', kurva*2)"
      ],
      "execution_count": 43,
      "outputs": [
        {
          "output_type": "stream",
          "text": [
            "0\n",
            "100\n",
            "1\n",
            "Total =  404\n"
          ],
          "name": "stdout"
        }
      ]
    }
  ]
}