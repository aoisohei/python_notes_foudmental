{
  "nbformat": 4,
  "nbformat_minor": 0,
  "metadata": {
    "colab": {
      "name": "python_notes_foundamental.ipynb",
      "provenance": [],
      "toc_visible": true,
      "authorship_tag": "ABX9TyPpq4/QM7edct06lQRrzJFr",
      "include_colab_link": true
    },
    "kernelspec": {
      "name": "python3",
      "display_name": "Python 3"
    }
  },
  "cells": [
    {
      "cell_type": "markdown",
      "metadata": {
        "id": "view-in-github",
        "colab_type": "text"
      },
      "source": [
        "<a href=\"https://colab.research.google.com/github/aoisohei/python_notes_foudmental/blob/main/python_notes_foundamental.ipynb\" target=\"_parent\"><img src=\"https://colab.research.google.com/assets/colab-badge.svg\" alt=\"Open In Colab\"/></a>"
      ]
    },
    {
      "cell_type": "markdown",
      "metadata": {
        "id": "KfOP0QWCS2kd"
      },
      "source": [
        "# Base knowledge \n",
        "###### # ma 'read.me' qui s'efforce de devenir l'information le plus complète sur Python pour moi. \n",
        "###### # à chaque fois, j'ajouterai ici de nouvelles notes et nouvelles connaissances de ce que je ne savais pas encore"
      ]
    },
    {
      "cell_type": "code",
      "metadata": {
        "id": "pJ5RQkWlLSCV",
        "outputId": "9414b124-8822-432d-aaab-df87aa019419",
        "colab": {
          "base_uri": "https://localhost:8080/"
        }
      },
      "source": [
        "print('Everybody wants to rule the world')"
      ],
      "execution_count": null,
      "outputs": [
        {
          "output_type": "stream",
          "text": [
            "Everybody wants to rule the world\n"
          ],
          "name": "stdout"
        }
      ]
    },
    {
      "cell_type": "markdown",
      "metadata": {
        "id": "Guj2Gf2yXyLK"
      },
      "source": [
        "## Types de données"
      ]
    },
    {
      "cell_type": "markdown",
      "metadata": {
        "id": "2GIsgyvmPJGN"
      },
      "source": [
        "\n",
        "---\n",
        "##### ***# note 1: 'Python 2 \\ Python 3'***\n",
        "\n",
        "_\n",
        "\n",
        "Python 2\n",
        "1 - Il y a type \"long\"\n",
        "\n",
        "Python 3\n",
        "1 - Il n'y a pas type \"long\"\n",
        "\n",
        "---\n"
      ]
    },
    {
      "cell_type": "code",
      "metadata": {
        "id": "jx50QAlqMu3x",
        "outputId": "bffbf74c-fa7e-4af2-9a03-cc8d88e5ee76",
        "colab": {
          "base_uri": "https://localhost:8080/"
        }
      },
      "source": [
        "# int\n",
        "\n",
        "# Dans   : C# int prends 4 bytes, c'est à dire il est un chiffre 32bits\n",
        "# Python : le nombre est limité par la quantité totale de RAM.\n",
        "\n",
        "integer = 3\n",
        "print(integer, type(integer))\n"
      ],
      "execution_count": null,
      "outputs": [
        {
          "output_type": "stream",
          "text": [
            "3 <class 'int'>\n"
          ],
          "name": "stdout"
        }
      ]
    },
    {
      "cell_type": "code",
      "metadata": {
        "id": "CJHHLvJ6PhIo",
        "outputId": "2451ae25-dfc7-46b6-cef2-cb65bf15d4d7",
        "colab": {
          "base_uri": "https://localhost:8080/"
        }
      },
      "source": [
        "# float\n",
        "\n",
        "float1 = 3.0\n",
        "print(float1, type(float1))\n"
      ],
      "execution_count": null,
      "outputs": [
        {
          "output_type": "stream",
          "text": [
            "3.0 <class 'float'>\n"
          ],
          "name": "stdout"
        }
      ]
    },
    {
      "cell_type": "code",
      "metadata": {
        "id": "CgCTsF2mQHed",
        "outputId": "b7843797-63c1-4f6b-aaaf-02e9c88f7696",
        "colab": {
          "base_uri": "https://localhost:8080/"
        }
      },
      "source": [
        "# str \n",
        "\n",
        "# - séquence de symboles\n",
        "# Dans   : C# a le type char pour un lettre\n",
        "# Python : un lettre est le type 'str'\n",
        "\n",
        "\n",
        "print('PARTIE 1')\n",
        "print('-------------------- 1 --------------------')\n",
        "str1 = 'W'\n",
        "print(str1, type(str1))\n",
        "print()\n",
        "\n",
        "print('-------------------- 2 --------------------')\n",
        "str2 = 'Everybody wants to rule the world'\n",
        "print(str2, type(str2))\n",
        "print()\n",
        "\n",
        "# 'String' ne peut pas comporter la signe ', mais il peut comporter \"\n",
        "# \"String\" peut la signe ' mais il ne peut pas comporter \"\n",
        " \n",
        " \n",
        "print('-------------------- 3 --------------------')\n",
        "str3 = \"Stri'ng\"\n",
        "print(str3, type(str3))\n",
        "print()\n",
        "\n",
        "\n",
        "print('-------------------- 4 --------------------')\n",
        "str4 = 'Stri\"ng'\n",
        "print(str4, type(str4))\n",
        "print()\n",
        "\n",
        "\n",
        "print('-------------------- 5 --------------------')\n",
        "str5 = 'Stri\\'ng'\n",
        "print(str5, type(str5))\n",
        "print()\n",
        "\n",
        "print('-------------------- 6 --------------------')\n",
        "str6 = \"Stri\\\"ng\"\n",
        "print(str6, type(str6))\n",
        "print()\n",
        "\n",
        "print('-------------------- 7 --------------------')\n",
        "str7 = \"C:\\\\Stri\\\\Img\\\\Photos\"\n",
        "print(str7)\n",
        "print()\n",
        "\n",
        "print('-------------------- 8 --------------------')\n",
        "str8 = r'C:\\Stri\\Img\\Photos'\n",
        "print(str8)\n",
        "print()\n",
        "\n",
        "print('-------------------- 9 --------------------')\n",
        "str9 = r'Use \\r\\n for Windows'\n",
        "print(str9)\n",
        "print()\n",
        "\n",
        "print('-------------------- 10 --------------------')\n",
        "str10 = r'Use \\n for Linux'\n",
        "print(str10)\n",
        "print()\n",
        "\n",
        "print('-------------------- 11 --------------------')\n",
        "str11 = r'Use \\t room'\n",
        "print(str10)\n",
        "print()\n",
        "\n",
        "print('-------------------- 12 --------------------')\n",
        "# constructeur de type str:\n",
        "line = str(\"Every body wants the rule the World\")\n",
        "print(line)\n",
        "print(line[0])\n",
        "print(line[-1]) # last character \n",
        "print(line)\n",
        "print()\n",
        "\n",
        " # line[x:y:z] \n",
        " # x - begining of the substring, \n",
        " # y - end of the substring, \n",
        " # z - step\n",
        "\n",
        "print('-------------------- 13 --------------------')\n",
        "print(line)\n",
        "print(line[2:]) # ery body wants tu rule the world\n",
        "print(line[6:-9]) # body wants tu rule \n",
        "print(line[::2]) # show every second character => Eeybd at url h ol\n",
        "print()\n",
        "\n",
        "# combiner deux ligne\n",
        "\n",
        "print('-------------------- 14 --------------------')\n",
        "# pour 2 characters\n",
        "print(\"My name is \" + \"Sam\")\n",
        "p1 = \"every\"\n",
        "p2 = \"world\"\n",
        "print(p1 + \" \" + p2) #\n",
        "print()\n",
        "\n",
        "\n",
        "print('-------------------- 15 --------------------')\n",
        "# pour plusieur caractera\n",
        "# % - pourcentage de poids\n",
        "print(\"%s %s\" % (p1, p2))\n",
        "print(\"{} {}\".format(p1, p2)) # \n",
        "print()\n",
        "\n",
        "print('a'*7)  # aaaaaaa\n",
        "print()\n",
        "\n",
        "print('-------------------- 16 --------------------')\n",
        "print(len(line), \" in string => \", line) # numbers of characters in the string\n",
        "print(line.count('e'), \"'e' in string => \", line) # numbers of one character in the string\n",
        "print()\n",
        "\n",
        "print('-------------------- 17 --------------------')\n",
        "# Operations with registre\n",
        "line1 = line.capitalize() # first character is capital, other are little\n",
        "print('line1', line1) # first character is capital, other are little\n",
        "\n",
        "line2 = line.upper() # all characters are capital,\n",
        "print('line2', line2) # all characters are capital,\n",
        "\n",
        "line3 = line.lower()\n",
        "print('line3', line3) # all characters are little,\n",
        "print()\n",
        "\n",
        "print('-------------------- 18 --------------------')\n",
        "# varifiacation : si tout les charaters sont grands\n",
        "print('si tout les charaters sont grands in line2 :' , line2.isupper())\n",
        "print('si tout les charaters sont petits in line3 :' , line3.islower())\n",
        "print()\n",
        "\n",
        "print('-------------------- 19 --------------------')\n",
        "print(line.find('e')) # s'il y plusieur 'e', fonction affiche le premier qui trouve\n",
        "print(line.find('e', 3, 10)) # -1 s'agnifie qu'il ne faut pas trouver ce character\n",
        "# x.find(y, z, f) \n",
        "# x = string/line, \n",
        "# y = la quantité de character qu'on cherche\n",
        "# z = à partir de quelle character il faut commencer à chercher\n",
        "# f = ou il faut fini\n",
        "print(line.find('World'))\n",
        "print()\n",
        "\n",
        "print('-------------------- 20 --------------------')\n",
        "print('123abs'.isalnum()) # varifiacation : s'il n'y a que les nombres et les lettres\n",
        "print('123abs!'.isalnum())# varifiacation : s'il y a les '!' et autres symboles\n",
        "print('abs'.isalpha())    # varifiacation : s'il n'y a que les lettres\n",
        "\n",
        "print('-------------------- 21 --------------------')\n",
        "print(\"     \".isspace())  # varifiacation : s'il y a les spaces \n",
        "print(\"\".isspace())    # varifiacation : s'il y a les spaces \n",
        "print()\n",
        "# varifiacation : s'il y a les spaces et endroits vides\n",
        "emptystring = \"\"   \n",
        "print(emptystring == \"\")\n",
        "print()\n",
        "\n",
        "# varifiacation : suprimer un string in other string\n",
        "h = \"     \"\n",
        "print(h.strip('     ') == \"\") # true\n",
        "print()\n",
        "\n",
        "h1 = \"\"\n",
        "if not h1:\n",
        "  print(\"vide\")\n",
        "else:\n",
        "  print(\"spaces\")\n",
        "\n",
        "print('-------------------- 22 --------------------')\n",
        "# start and end with special lettres\n",
        "u = \"world\"\n",
        "u1 = \"wo\"\n",
        "print(u.startswith(u1))\n",
        "print(u.endswith(u1))\n",
        "\n",
        "spliting = u.split('l')\n",
        "print(type(spliting), spliting)\n",
        "\n",
        "print(line.partition('rule'))\n",
        "print(line.partition('the'))\n",
        "\n",
        "print('PARTIE 2 - formating of string')\n",
        "\n",
        "print('-------------------- 23 --------------------')\n",
        "w = \"World\"\n",
        "print(\"Every body wants to rule the {}\".format(w)) \n",
        "print()\n",
        "\n",
        "print(\"Every body wants to {} the {}\".format(\"rule\", w))\n",
        "print()\n",
        "\n",
        "pi = 3.14\n",
        "print(\"Pi equals {r:1.2f}\".format(r=pi))\n",
        "print(\"Pi equals {r:2.2f}\".format(r=pi))\n",
        "print(\"Pi equals {r:3.2f}\".format(r=pi))\n",
        "print(\"Pi equals {r:4.2f}\".format(r=pi))\n",
        "print(\"Pi equals {r:5.2f}\".format(r=pi)) # un space est apparu avant 3.14, parce que 3.14 ne comporte que 4 symboles\n",
        "print()\n",
        "\n",
        "print('-------------------- 24 --------------------')\n",
        "# interpalation python 3.6\n",
        "w = \"World N°\"\n",
        "r = 1\n",
        "print(f\"Every body wants to rule the {w} {r}\")\n",
        "print(\"Pi equals {r:1.2f}\".format(r=pi))"
      ],
      "execution_count": null,
      "outputs": [
        {
          "output_type": "stream",
          "text": [
            "PARTIE 1\n",
            "-------------------- 1 --------------------\n",
            "W <class 'str'>\n",
            "\n",
            "-------------------- 2 --------------------\n",
            "Everybody wants to rule the world <class 'str'>\n",
            "\n",
            "-------------------- 3 --------------------\n",
            "Stri'ng <class 'str'>\n",
            "\n",
            "-------------------- 4 --------------------\n",
            "Stri\"ng <class 'str'>\n",
            "\n",
            "-------------------- 5 --------------------\n",
            "Stri'ng <class 'str'>\n",
            "\n",
            "-------------------- 6 --------------------\n",
            "Stri\"ng <class 'str'>\n",
            "\n",
            "-------------------- 7 --------------------\n",
            "C:\\Stri\\Img\\Photos\n",
            "\n",
            "-------------------- 8 --------------------\n",
            "C:\\Stri\\Img\\Photos\n",
            "\n",
            "-------------------- 9 --------------------\n",
            "Use \\r\\n for Windows\n",
            "\n",
            "-------------------- 10 --------------------\n",
            "Use \\n for Linux\n",
            "\n",
            "-------------------- 11 --------------------\n",
            "Use \\n for Linux\n",
            "\n",
            "-------------------- 12 --------------------\n",
            "Every body wants the rule the World\n",
            "E\n",
            "d\n",
            "Every body wants the rule the World\n",
            "\n",
            "-------------------- 13 --------------------\n",
            "Every body wants the rule the World\n",
            "ery body wants the rule the World\n",
            "body wants the rule \n",
            "Eeybd at h ueteWrd\n",
            "\n",
            "-------------------- 14 --------------------\n",
            "My name is Sam\n",
            "every world\n",
            "\n",
            "-------------------- 15 --------------------\n",
            "every world\n",
            "every world\n",
            "\n",
            "aaaaaaa\n",
            "\n",
            "-------------------- 16 --------------------\n",
            "35  in string =>  Every body wants the rule the World\n",
            "4 'e' in string =>  Every body wants the rule the World\n",
            "\n",
            "-------------------- 17 --------------------\n",
            "line1 Every body wants the rule the world\n",
            "line2 EVERY BODY WANTS THE RULE THE WORLD\n",
            "line3 every body wants the rule the world\n",
            "\n",
            "-------------------- 18 --------------------\n",
            "si tout les charaters sont grands in line2 : True\n",
            "si tout les charaters sont petits in line3 : True\n",
            "\n",
            "-------------------- 19 --------------------\n",
            "2\n",
            "-1\n",
            "30\n",
            "\n",
            "-------------------- 20 --------------------\n",
            "True\n",
            "False\n",
            "True\n",
            "-------------------- 21 --------------------\n",
            "True\n",
            "False\n",
            "\n",
            "True\n",
            "\n",
            "True\n",
            "\n",
            "vide\n",
            "-------------------- 22 --------------------\n",
            "True\n",
            "False\n",
            "<class 'list'> ['wor', 'd']\n",
            "('Every body wants the ', 'rule', ' the World')\n",
            "('Every body wants ', 'the', ' rule the World')\n",
            "PARTIE 2 - formating of string\n",
            "-------------------- 23 --------------------\n",
            "Every body wants to rule the World\n",
            "\n",
            "Every body wants to rule the World\n",
            "\n",
            "Pi equals 3.14\n",
            "Pi equals 3.14\n",
            "Pi equals 3.14\n",
            "Pi equals 3.14\n",
            "Pi equals  3.14\n",
            "\n",
            "-------------------- 24 --------------------\n",
            "Every body wants to rule the World N° 1\n",
            "Pi equals 3.14\n"
          ],
          "name": "stdout"
        }
      ]
    },
    {
      "cell_type": "markdown",
      "metadata": {
        "id": "jzEQSoy4mcW1"
      },
      "source": [
        "\n",
        "---\n",
        "##### ***# note 2: 'Windows\\ Linux'***\n",
        "\n",
        "_\n",
        "\n",
        "Windows\n",
        "\n",
        "New line : \\r\\n \n",
        "\n",
        "Linux\n",
        "\n",
        "New line : \\n \n",
        "\n",
        "---\n"
      ]
    },
    {
      "cell_type": "code",
      "metadata": {
        "id": "vCz2BPqDQ9-P",
        "outputId": "61e06ffc-b6d3-483f-b28a-8b7ae816a512",
        "colab": {
          "base_uri": "https://localhost:8080/"
        }
      },
      "source": [
        "# list \n",
        "\n",
        "# - séquence d'objets\n",
        "\n",
        "list1 = [1, 2.2, 'every', \"w'orld\"]\n",
        "print(list1, type(list1))\n"
      ],
      "execution_count": null,
      "outputs": [
        {
          "output_type": "stream",
          "text": [
            "[1, 2.2, 'every', \"w'orld\"] <class 'list'>\n"
          ],
          "name": "stdout"
        }
      ]
    },
    {
      "cell_type": "code",
      "metadata": {
        "id": "QG3uh938SSfu",
        "outputId": "b154215a-1371-4b52-e084-78934806ce82",
        "colab": {
          "base_uri": "https://localhost:8080/"
        }
      },
      "source": [
        "# dict \n",
        "\n",
        "# - séquence de paire 'clé / valeur'\n",
        "\n",
        "dict1 = {\"worlds\" : 3, \"dirigants\" : 5, \"systems\" : 6}\n",
        "print(dict1, type(dict1))"
      ],
      "execution_count": null,
      "outputs": [
        {
          "output_type": "stream",
          "text": [
            "{'worlds': 3, 'dirigants': 5, 'systems': 6} <class 'dict'>\n"
          ],
          "name": "stdout"
        }
      ]
    },
    {
      "cell_type": "code",
      "metadata": {
        "id": "KjrWh8XoV_Gu",
        "outputId": "9095e4ec-b5d6-42f9-f81a-7035ef2fd3c9",
        "colab": {
          "base_uri": "https://localhost:8080/"
        }
      },
      "source": [
        "# tuple \n",
        "\n",
        "# - séquence d'objets qu'il ne faut pas changer\n",
        "\n",
        "tuple1 = (1, 2.2, 'every', \"w'orld\")\n",
        "print(tuple1, type(tuple1))"
      ],
      "execution_count": null,
      "outputs": [
        {
          "output_type": "stream",
          "text": [
            "(1, 2.2, 'every', \"w'orld\") <class 'tuple'>\n"
          ],
          "name": "stdout"
        }
      ]
    },
    {
      "cell_type": "code",
      "metadata": {
        "id": "tpsw5IcJWZSB",
        "outputId": "5cf50df6-52bf-4dfc-8df1-bfdeb60d4653",
        "colab": {
          "base_uri": "https://localhost:8080/"
        }
      },
      "source": [
        "# set \n",
        "\n",
        "# - séquence d'objets uniaques (il n'y a pas deux pareil valeur)\n",
        "\n",
        "set1 = {\"a\", \"b\"}\n",
        "print(set1, type(set1))"
      ],
      "execution_count": null,
      "outputs": [
        {
          "output_type": "stream",
          "text": [
            "{'b', 'a'} <class 'set'>\n"
          ],
          "name": "stdout"
        }
      ]
    },
    {
      "cell_type": "code",
      "metadata": {
        "id": "dsbA5WJyW0V9",
        "outputId": "f18ad6e6-f695-4d2e-9196-059dd1867da6",
        "colab": {
          "base_uri": "https://localhost:8080/"
        }
      },
      "source": [
        "# bool\n",
        "\n",
        "bool1 = True\n",
        "bool2 = False\n",
        "\n",
        "print(bool1, type(bool1))\n",
        "print(bool2, type(bool2))"
      ],
      "execution_count": null,
      "outputs": [
        {
          "output_type": "stream",
          "text": [
            "True <class 'bool'>\n",
            "False <class 'bool'>\n"
          ],
          "name": "stdout"
        }
      ]
    },
    {
      "cell_type": "code",
      "metadata": {
        "id": "wWAcrxE4eaXy",
        "outputId": "69c7b2f8-673a-4747-9a9b-73664e410ee6",
        "colab": {
          "base_uri": "https://localhost:8080/"
        }
      },
      "source": [
        "z = None\n",
        "\n",
        "print(z, type(z))"
      ],
      "execution_count": null,
      "outputs": [
        {
          "output_type": "stream",
          "text": [
            "None <class 'NoneType'>\n"
          ],
          "name": "stdout"
        }
      ]
    },
    {
      "cell_type": "markdown",
      "metadata": {
        "id": "AIzu7yQwZZwX"
      },
      "source": [
        "## Operations mathematiques"
      ]
    },
    {
      "cell_type": "code",
      "metadata": {
        "id": "2NNEhzqSYGMi",
        "outputId": "ac7edbb4-ccb4-482f-8cb4-d6716fe35207",
        "colab": {
          "base_uri": "https://localhost:8080/"
        }
      },
      "source": [
        "0+1"
      ],
      "execution_count": null,
      "outputs": [
        {
          "output_type": "execute_result",
          "data": {
            "text/plain": [
              "1"
            ]
          },
          "metadata": {
            "tags": []
          },
          "execution_count": 11
        }
      ]
    },
    {
      "cell_type": "code",
      "metadata": {
        "id": "x0ZbvuDyYO6H",
        "outputId": "6f2b8e8f-6057-41e9-d15b-2a392f226461",
        "colab": {
          "base_uri": "https://localhost:8080/"
        }
      },
      "source": [
        "1+2"
      ],
      "execution_count": null,
      "outputs": [
        {
          "output_type": "execute_result",
          "data": {
            "text/plain": [
              "3"
            ]
          },
          "metadata": {
            "tags": []
          },
          "execution_count": 12
        }
      ]
    },
    {
      "cell_type": "code",
      "metadata": {
        "id": "1mNOe4_ZYRCt",
        "outputId": "1c547a51-ea38-46d9-f80b-0d5c7871d483",
        "colab": {
          "base_uri": "https://localhost:8080/"
        }
      },
      "source": [
        "3-1"
      ],
      "execution_count": null,
      "outputs": [
        {
          "output_type": "execute_result",
          "data": {
            "text/plain": [
              "2"
            ]
          },
          "metadata": {
            "tags": []
          },
          "execution_count": 13
        }
      ]
    },
    {
      "cell_type": "code",
      "metadata": {
        "id": "RVHQNRBrYS7Q",
        "outputId": "fdfa8902-531a-403b-e8ad-3caa78932289",
        "colab": {
          "base_uri": "https://localhost:8080/"
        }
      },
      "source": [
        "3-5"
      ],
      "execution_count": null,
      "outputs": [
        {
          "output_type": "execute_result",
          "data": {
            "text/plain": [
              "-2"
            ]
          },
          "metadata": {
            "tags": []
          },
          "execution_count": 14
        }
      ]
    },
    {
      "cell_type": "code",
      "metadata": {
        "id": "hA-IvCcMYVAL",
        "outputId": "9cd5c40b-e0a3-47f4-ea7d-4c2c56abe151",
        "colab": {
          "base_uri": "https://localhost:8080/"
        }
      },
      "source": [
        "6/2\n",
        "\n",
        "# '/' - le resultat toujours 'float'"
      ],
      "execution_count": null,
      "outputs": [
        {
          "output_type": "execute_result",
          "data": {
            "text/plain": [
              "3.0"
            ]
          },
          "metadata": {
            "tags": []
          },
          "execution_count": 15
        }
      ]
    },
    {
      "cell_type": "code",
      "metadata": {
        "id": "BYKPOTl0YXtp",
        "outputId": "0da5d2ee-5b62-4c54-be45-2e0c7e471870",
        "colab": {
          "base_uri": "https://localhost:8080/"
        }
      },
      "source": [
        "1/1"
      ],
      "execution_count": null,
      "outputs": [
        {
          "output_type": "execute_result",
          "data": {
            "text/plain": [
              "1.0"
            ]
          },
          "metadata": {
            "tags": []
          },
          "execution_count": 16
        }
      ]
    },
    {
      "cell_type": "code",
      "metadata": {
        "id": "TfaLCfHeYZ5K",
        "outputId": "cc9190bc-1f30-4d10-e9e8-0c79d7e86d19",
        "colab": {
          "base_uri": "https://localhost:8080/"
        }
      },
      "source": [
        "7/2"
      ],
      "execution_count": null,
      "outputs": [
        {
          "output_type": "execute_result",
          "data": {
            "text/plain": [
              "3.5"
            ]
          },
          "metadata": {
            "tags": []
          },
          "execution_count": 17
        }
      ]
    },
    {
      "cell_type": "code",
      "metadata": {
        "id": "2QrqJK-BYdNP",
        "outputId": "725bab2e-1f12-4160-eca1-3e75a40589ad",
        "colab": {
          "base_uri": "https://localhost:8080/"
        }
      },
      "source": [
        "2.0+1"
      ],
      "execution_count": null,
      "outputs": [
        {
          "output_type": "execute_result",
          "data": {
            "text/plain": [
              "3.0"
            ]
          },
          "metadata": {
            "tags": []
          },
          "execution_count": 18
        }
      ]
    },
    {
      "cell_type": "code",
      "metadata": {
        "id": "CRAAvcxwYiGt",
        "outputId": "48b63632-ba1f-40f5-98bc-aa46a4eeebfb",
        "colab": {
          "base_uri": "https://localhost:8080/"
        }
      },
      "source": [
        "2*5"
      ],
      "execution_count": null,
      "outputs": [
        {
          "output_type": "execute_result",
          "data": {
            "text/plain": [
              "10"
            ]
          },
          "metadata": {
            "tags": []
          },
          "execution_count": 19
        }
      ]
    },
    {
      "cell_type": "code",
      "metadata": {
        "id": "QqTk2ssWYkk0",
        "outputId": "eab7013e-96cb-44cc-d504-ad030f222db6",
        "colab": {
          "base_uri": "https://localhost:8080/"
        }
      },
      "source": [
        "1.2*3"
      ],
      "execution_count": null,
      "outputs": [
        {
          "output_type": "execute_result",
          "data": {
            "text/plain": [
              "3.5999999999999996"
            ]
          },
          "metadata": {
            "tags": []
          },
          "execution_count": 20
        }
      ]
    },
    {
      "cell_type": "code",
      "metadata": {
        "id": "J8Nh8GgaYncx",
        "outputId": "b344a9d0-43dc-4e05-9d1f-b01051e73d17",
        "colab": {
          "base_uri": "https://localhost:8080/"
        }
      },
      "source": [
        "round(1.2*3, 2)"
      ],
      "execution_count": null,
      "outputs": [
        {
          "output_type": "execute_result",
          "data": {
            "text/plain": [
              "3.6"
            ]
          },
          "metadata": {
            "tags": []
          },
          "execution_count": 21
        }
      ]
    },
    {
      "cell_type": "code",
      "metadata": {
        "id": "84SMc1ogYrAu",
        "outputId": "576d5651-094f-4c51-ee19-72aabb2ab0b2",
        "colab": {
          "base_uri": "https://localhost:8080/"
        }
      },
      "source": [
        "3%2"
      ],
      "execution_count": null,
      "outputs": [
        {
          "output_type": "execute_result",
          "data": {
            "text/plain": [
              "1"
            ]
          },
          "metadata": {
            "tags": []
          },
          "execution_count": 22
        }
      ]
    },
    {
      "cell_type": "code",
      "metadata": {
        "id": "0VLILy87aGYs",
        "outputId": "a7430d48-b5d9-4dfa-b6a2-2d46edff3055",
        "colab": {
          "base_uri": "https://localhost:8080/"
        }
      },
      "source": [
        "3%2 == 0"
      ],
      "execution_count": null,
      "outputs": [
        {
          "output_type": "execute_result",
          "data": {
            "text/plain": [
              "False"
            ]
          },
          "metadata": {
            "tags": []
          },
          "execution_count": 23
        }
      ]
    },
    {
      "cell_type": "code",
      "metadata": {
        "id": "IUlVqPTpaKl6",
        "outputId": "67fbfc58-10aa-4627-9877-35820a1a532e",
        "colab": {
          "base_uri": "https://localhost:8080/"
        }
      },
      "source": [
        "4%2"
      ],
      "execution_count": null,
      "outputs": [
        {
          "output_type": "execute_result",
          "data": {
            "text/plain": [
              "0"
            ]
          },
          "metadata": {
            "tags": []
          },
          "execution_count": 24
        }
      ]
    },
    {
      "cell_type": "code",
      "metadata": {
        "id": "lPU9Udo4aObJ",
        "outputId": "b4501f90-9d39-43a4-c9a5-ec0f45d6895d",
        "colab": {
          "base_uri": "https://localhost:8080/"
        }
      },
      "source": [
        "4%2 == 0"
      ],
      "execution_count": null,
      "outputs": [
        {
          "output_type": "execute_result",
          "data": {
            "text/plain": [
              "True"
            ]
          },
          "metadata": {
            "tags": []
          },
          "execution_count": 25
        }
      ]
    },
    {
      "cell_type": "code",
      "metadata": {
        "id": "pvs1TJhqY00S",
        "outputId": "480bb142-6123-4b44-d1ff-95fad3f5a4b6",
        "colab": {
          "base_uri": "https://localhost:8080/"
        }
      },
      "source": [
        "2*2*2*2"
      ],
      "execution_count": null,
      "outputs": [
        {
          "output_type": "execute_result",
          "data": {
            "text/plain": [
              "16"
            ]
          },
          "metadata": {
            "tags": []
          },
          "execution_count": 26
        }
      ]
    },
    {
      "cell_type": "code",
      "metadata": {
        "id": "jVaMIvoUY3pX",
        "outputId": "8d6cdabe-fa04-47c3-ff62-7541fb08957e",
        "colab": {
          "base_uri": "https://localhost:8080/"
        }
      },
      "source": [
        "2**4"
      ],
      "execution_count": null,
      "outputs": [
        {
          "output_type": "execute_result",
          "data": {
            "text/plain": [
              "16"
            ]
          },
          "metadata": {
            "tags": []
          },
          "execution_count": 27
        }
      ]
    },
    {
      "cell_type": "code",
      "metadata": {
        "id": "HJOLBL8ZY7Vk",
        "outputId": "563b861a-e746-4865-f319-c1d6e6aab9fb",
        "colab": {
          "base_uri": "https://localhost:8080/"
        }
      },
      "source": [
        "2+2*2"
      ],
      "execution_count": null,
      "outputs": [
        {
          "output_type": "execute_result",
          "data": {
            "text/plain": [
              "6"
            ]
          },
          "metadata": {
            "tags": []
          },
          "execution_count": 28
        }
      ]
    },
    {
      "cell_type": "code",
      "metadata": {
        "id": "MDvpv0ySY92q",
        "outputId": "a9a18a16-c153-43ba-f5c4-57c0ade21417",
        "colab": {
          "base_uri": "https://localhost:8080/"
        }
      },
      "source": [
        "(2+2)*2"
      ],
      "execution_count": null,
      "outputs": [
        {
          "output_type": "execute_result",
          "data": {
            "text/plain": [
              "8"
            ]
          },
          "metadata": {
            "tags": []
          },
          "execution_count": 29
        }
      ]
    },
    {
      "cell_type": "code",
      "metadata": {
        "id": "C5KPp71xZBrh",
        "outputId": "28af642c-dfd1-4118-ae54-cd62e477eced",
        "colab": {
          "base_uri": "https://localhost:8080/"
        }
      },
      "source": [
        "(2+2)*2+3*(6/2)"
      ],
      "execution_count": null,
      "outputs": [
        {
          "output_type": "execute_result",
          "data": {
            "text/plain": [
              "17.0"
            ]
          },
          "metadata": {
            "tags": []
          },
          "execution_count": 30
        }
      ]
    },
    {
      "cell_type": "code",
      "metadata": {
        "id": "aKy_AzFTZRRX",
        "outputId": "a6b8755d-ee5f-4758-8e60-7e589f5ecb62",
        "colab": {
          "base_uri": "https://localhost:8080/"
        }
      },
      "source": [
        "2**38"
      ],
      "execution_count": null,
      "outputs": [
        {
          "output_type": "execute_result",
          "data": {
            "text/plain": [
              "274877906944"
            ]
          },
          "metadata": {
            "tags": []
          },
          "execution_count": 31
        }
      ]
    },
    {
      "cell_type": "code",
      "metadata": {
        "id": "tY384LTIZUHp",
        "outputId": "f9329d3f-e16b-404b-8418-db39204ce4e8",
        "colab": {
          "base_uri": "https://localhost:8080/"
        }
      },
      "source": [
        "2**64"
      ],
      "execution_count": null,
      "outputs": [
        {
          "output_type": "execute_result",
          "data": {
            "text/plain": [
              "18446744073709551616"
            ]
          },
          "metadata": {
            "tags": []
          },
          "execution_count": 32
        }
      ]
    },
    {
      "cell_type": "markdown",
      "metadata": {
        "id": "LTLMf02Ma6VX"
      },
      "source": [
        "## Variables et operation de comparaison"
      ]
    },
    {
      "cell_type": "code",
      "metadata": {
        "id": "3ihUuJ65a9qk",
        "outputId": "01c12814-5481-4324-cc72-65aae4b63e1e",
        "colab": {
          "base_uri": "https://localhost:8080/"
        }
      },
      "source": [
        "# En tant que Python est dinamiaque - permet de changer le type de variable :\n",
        "\n",
        "x = 3\n",
        "print(x, type(x))\n",
        "\n",
        "x = float(x)\n",
        "print(x, type(x))\n",
        "\n",
        "x = 3.14\n",
        "print(x, type(x))"
      ],
      "execution_count": null,
      "outputs": [
        {
          "output_type": "stream",
          "text": [
            "3 <class 'int'>\n",
            "3.0 <class 'float'>\n",
            "3.14 <class 'float'>\n"
          ],
          "name": "stdout"
        }
      ]
    },
    {
      "cell_type": "code",
      "metadata": {
        "id": "vGyTCDh5b9ti"
      },
      "source": [
        "# strongly typed \\ fortement typé - il ne faut pas combiner deux type incombinées  :\n",
        "\n",
        "q = \"sting\"\n",
        "# x + q"
      ],
      "execution_count": null,
      "outputs": []
    },
    {
      "cell_type": "code",
      "metadata": {
        "id": "6JbhUB_edHHn",
        "outputId": "3da699d2-daab-4b91-c728-ac074816309f",
        "colab": {
          "base_uri": "https://localhost:8080/"
        }
      },
      "source": [
        "a = True\n",
        "b = False\n",
        "\n",
        "a == b"
      ],
      "execution_count": null,
      "outputs": [
        {
          "output_type": "execute_result",
          "data": {
            "text/plain": [
              "False"
            ]
          },
          "metadata": {
            "tags": []
          },
          "execution_count": 35
        }
      ]
    },
    {
      "cell_type": "code",
      "metadata": {
        "id": "8USQ_5sUeEcf",
        "outputId": "82c56c7e-172c-4ae6-a5c5-cc9a4052782c",
        "colab": {
          "base_uri": "https://localhost:8080/"
        }
      },
      "source": [
        "a != b"
      ],
      "execution_count": null,
      "outputs": [
        {
          "output_type": "execute_result",
          "data": {
            "text/plain": [
              "True"
            ]
          },
          "metadata": {
            "tags": []
          },
          "execution_count": 36
        }
      ]
    },
    {
      "cell_type": "code",
      "metadata": {
        "id": "ZFWdZROLeJDU",
        "outputId": "3a206d03-9357-4132-a6da-479b71917aba",
        "colab": {
          "base_uri": "https://localhost:8080/"
        }
      },
      "source": [
        "a >= b"
      ],
      "execution_count": null,
      "outputs": [
        {
          "output_type": "execute_result",
          "data": {
            "text/plain": [
              "True"
            ]
          },
          "metadata": {
            "tags": []
          },
          "execution_count": 37
        }
      ]
    },
    {
      "cell_type": "code",
      "metadata": {
        "id": "cnwFKLy6eK72",
        "outputId": "beeee0fb-c33d-4580-b7a3-d89202af9f4f",
        "colab": {
          "base_uri": "https://localhost:8080/"
        }
      },
      "source": [
        "a <= b"
      ],
      "execution_count": null,
      "outputs": [
        {
          "output_type": "execute_result",
          "data": {
            "text/plain": [
              "False"
            ]
          },
          "metadata": {
            "tags": []
          },
          "execution_count": 38
        }
      ]
    },
    {
      "cell_type": "code",
      "metadata": {
        "id": "AxFi7-G9eOWk",
        "outputId": "4dc219d7-ca1f-424f-ab40-4ed834f5a8c7",
        "colab": {
          "base_uri": "https://localhost:8080/"
        }
      },
      "source": [
        "a < b"
      ],
      "execution_count": null,
      "outputs": [
        {
          "output_type": "execute_result",
          "data": {
            "text/plain": [
              "False"
            ]
          },
          "metadata": {
            "tags": []
          },
          "execution_count": 39
        }
      ]
    },
    {
      "cell_type": "code",
      "metadata": {
        "id": "cMOiZPnTeQiC",
        "outputId": "b302740f-3593-409e-ab8f-261e162101a8",
        "colab": {
          "base_uri": "https://localhost:8080/"
        }
      },
      "source": [
        "a > b"
      ],
      "execution_count": null,
      "outputs": [
        {
          "output_type": "execute_result",
          "data": {
            "text/plain": [
              "True"
            ]
          },
          "metadata": {
            "tags": []
          },
          "execution_count": 40
        }
      ]
    },
    {
      "cell_type": "code",
      "metadata": {
        "id": "pDM9p0fneSip",
        "outputId": "938eec26-5bbd-498c-daa9-ae89d9d0324b",
        "colab": {
          "base_uri": "https://localhost:8080/"
        }
      },
      "source": [
        "a == None"
      ],
      "execution_count": null,
      "outputs": [
        {
          "output_type": "execute_result",
          "data": {
            "text/plain": [
              "False"
            ]
          },
          "metadata": {
            "tags": []
          },
          "execution_count": 41
        }
      ]
    },
    {
      "cell_type": "code",
      "metadata": {
        "id": "U-0qh0nbTJfO",
        "outputId": "454823f0-7cc2-4a96-9246-c60d28ae4263",
        "colab": {
          "base_uri": "https://localhost:8080/"
        }
      },
      "source": [
        "# operation de comparaison\n",
        "\n",
        "print('-------------------- 1 --------------------')\n",
        "print(2 > 2)\n",
        "print(2 >= 2)\n",
        "print(3 >= 2)\n",
        "print(3 >= 4)\n",
        "print()\n",
        "print('-------------------- 2 --------------------')\n",
        "print(2 < 2)\n",
        "print(2 <= 2)\n",
        "print(3 <= 2)\n",
        "print(3 <= 4)\n",
        "print()\n",
        "print('-------------------- 3 --------------------')\n",
        "print(1 == 1)\n",
        "print(1 != 1)\n",
        "print()\n",
        "print('-------------------- 4 --------------------')\n",
        "print('stirng' == 'stirng' )\n",
        "print('1' != 1)\n",
        "print('-------------------- 5 --------------------')\n",
        "# ignore registre\n",
        "q = 'stirng'\n",
        "g = 'Stirng'\n",
        "print(q.lower() == g.lower())\n",
        "\n",
        "print('-------------------- 6 --------------------')\n",
        "# chaining\n",
        "print(1 < 2 < 3)\n",
        "print(1 > 2 and 2 < 3 ) \n",
        "\n",
        "print('-------------------- 7 --------------------')\n",
        "is_admin = True\n",
        "file_exist = True\n",
        "should_open_file = is_admin and file_exist\n",
        "print(should_open_file)\n",
        "print()\n",
        "\n",
        "print('-------------------- 7 --------------------')\n",
        "\n",
        "# 1\n",
        "if not is_admin:\n",
        "  print('admin is not exist')\n",
        "else :\n",
        "  print(is_admin)\n",
        "\n",
        "# 2\n",
        "if is_admin == False :\n",
        "  print('admin is not exist')\n",
        "else :\n",
        "  print(is_admin)\n",
        "\n"
      ],
      "execution_count": null,
      "outputs": [
        {
          "output_type": "stream",
          "text": [
            "-------------------- 1 --------------------\n",
            "False\n",
            "True\n",
            "True\n",
            "False\n",
            "\n",
            "-------------------- 2 --------------------\n",
            "False\n",
            "True\n",
            "False\n",
            "True\n",
            "\n",
            "-------------------- 3 --------------------\n",
            "True\n",
            "False\n",
            "\n",
            "-------------------- 4 --------------------\n",
            "True\n",
            "True\n",
            "-------------------- 5 --------------------\n",
            "True\n",
            "-------------------- 6 --------------------\n",
            "True\n",
            "False\n",
            "-------------------- 7 --------------------\n",
            "True\n",
            "\n",
            "-------------------- 7 --------------------\n",
            "True\n",
            "True\n"
          ],
          "name": "stdout"
        }
      ]
    },
    {
      "cell_type": "markdown",
      "metadata": {
        "id": "Do0tVDgde7oN"
      },
      "source": [
        "## Work with file system"
      ]
    },
    {
      "cell_type": "code",
      "metadata": {
        "id": "jDcFUvboXDid",
        "outputId": "6c06fad3-5f72-4b58-8018-6f0ec0c3be6d",
        "colab": {
          "base_uri": "https://localhost:8080/",
          "height": 35
        }
      },
      "source": [
        "pwd"
      ],
      "execution_count": null,
      "outputs": [
        {
          "output_type": "execute_result",
          "data": {
            "application/vnd.google.colaboratory.intrinsic+json": {
              "type": "string"
            },
            "text/plain": [
              "'/content'"
            ]
          },
          "metadata": {
            "tags": []
          },
          "execution_count": 43
        }
      ]
    },
    {
      "cell_type": "code",
      "metadata": {
        "id": "NYJ8AXewXQcp",
        "outputId": "2746f18b-0977-4b6e-eebd-4b3ad3ca256c",
        "colab": {
          "base_uri": "https://localhost:8080/"
        }
      },
      "source": [
        "# only work in Jupyter\n",
        "%%writefile sample.txt\n",
        "Name|Phone\n",
        "John;123\n",
        "Bon;234\n",
        "Kevin;434"
      ],
      "execution_count": null,
      "outputs": [
        {
          "output_type": "stream",
          "text": [
            "Overwriting sample.txt\n"
          ],
          "name": "stdout"
        }
      ]
    },
    {
      "cell_type": "code",
      "metadata": {
        "id": "EDpv0GYmboMs"
      },
      "source": [
        "# for IDE\n",
        "# open('file_name', 'w') as file :\n",
        "#    file.write('data')"
      ],
      "execution_count": null,
      "outputs": []
    },
    {
      "cell_type": "code",
      "metadata": {
        "id": "kJHq4KGgX7LN",
        "outputId": "603df079-8e40-4982-b4bf-e75016d26458",
        "colab": {
          "base_uri": "https://localhost:8080/"
        }
      },
      "source": [
        "file = open('sample.txt')\n",
        "file"
      ],
      "execution_count": null,
      "outputs": [
        {
          "output_type": "execute_result",
          "data": {
            "text/plain": [
              "<_io.TextIOWrapper name='sample.txt' mode='r' encoding='UTF-8'>"
            ]
          },
          "metadata": {
            "tags": []
          },
          "execution_count": 46
        }
      ]
    },
    {
      "cell_type": "code",
      "metadata": {
        "id": "JtlvdcYqYGuZ",
        "outputId": "304c6b99-a6fb-4d29-e558-1cead306e430",
        "colab": {
          "base_uri": "https://localhost:8080/",
          "height": 35
        }
      },
      "source": [
        "data = file.read()\n",
        "data"
      ],
      "execution_count": null,
      "outputs": [
        {
          "output_type": "execute_result",
          "data": {
            "application/vnd.google.colaboratory.intrinsic+json": {
              "type": "string"
            },
            "text/plain": [
              "'Name|Phone\\nJohn;123\\nBon;234\\nKevin;434'"
            ]
          },
          "metadata": {
            "tags": []
          },
          "execution_count": 47
        }
      ]
    },
    {
      "cell_type": "code",
      "metadata": {
        "id": "7cGMX5DvYRnS",
        "outputId": "07d7aef2-99c8-4b78-9260-8198ba4cf18b",
        "colab": {
          "base_uri": "https://localhost:8080/"
        }
      },
      "source": [
        "print(data) # есть некий куросор, который добежал до конца файла, поэтому если мы хотим использовать снова этот метод он выведит пустоту смотри. след. пример"
      ],
      "execution_count": null,
      "outputs": [
        {
          "output_type": "stream",
          "text": [
            "Name|Phone\n",
            "John;123\n",
            "Bon;234\n",
            "Kevin;434\n"
          ],
          "name": "stdout"
        }
      ]
    },
    {
      "cell_type": "code",
      "metadata": {
        "id": "7EVT0D_qYxXY",
        "outputId": "ae1c610e-9579-4757-c873-e78e28642fc7",
        "colab": {
          "base_uri": "https://localhost:8080/"
        }
      },
      "source": [
        "print(file.read())"
      ],
      "execution_count": null,
      "outputs": [
        {
          "output_type": "stream",
          "text": [
            "\n"
          ],
          "name": "stdout"
        }
      ]
    },
    {
      "cell_type": "code",
      "metadata": {
        "id": "z27U2gcSY2jE",
        "outputId": "6eb9e91e-1c6a-4752-d2e1-9d963c6da408",
        "colab": {
          "base_uri": "https://localhost:8080/"
        }
      },
      "source": [
        "file.seek(0) # перевести курсок на нулефой байт\\ в начало файла\n",
        "print(file.read())"
      ],
      "execution_count": null,
      "outputs": [
        {
          "output_type": "stream",
          "text": [
            "Name|Phone\n",
            "John;123\n",
            "Bon;234\n",
            "Kevin;434\n"
          ],
          "name": "stdout"
        }
      ]
    },
    {
      "cell_type": "code",
      "metadata": {
        "id": "57XBBdx9Zpjw",
        "outputId": "2636b067-f62c-4eda-ef71-64e679486e53",
        "colab": {
          "base_uri": "https://localhost:8080/"
        }
      },
      "source": [
        "# afficher comme une liste\n",
        "file.seek(0) \n",
        "line = file.readline() #afiche un ligne\n",
        "print(type(line))\n",
        "print(line)\n",
        "print()\n",
        "\n",
        "lines = file.readlines() #afiche un ligne\n",
        "print(type(lines))\n",
        "print(lines)\n"
      ],
      "execution_count": null,
      "outputs": [
        {
          "output_type": "stream",
          "text": [
            "<class 'str'>\n",
            "Name|Phone\n",
            "\n",
            "\n",
            "<class 'list'>\n",
            "['John;123\\n', 'Bon;234\\n', 'Kevin;434']\n"
          ],
          "name": "stdout"
        }
      ]
    },
    {
      "cell_type": "code",
      "metadata": {
        "id": "w33GzqLjbYCd",
        "outputId": "1bb00bdd-2bc0-4633-95bf-f2e9a7ea59c6",
        "colab": {
          "base_uri": "https://localhost:8080/"
        }
      },
      "source": [
        "len(lines)"
      ],
      "execution_count": null,
      "outputs": [
        {
          "output_type": "execute_result",
          "data": {
            "text/plain": [
              "3"
            ]
          },
          "metadata": {
            "tags": []
          },
          "execution_count": 52
        }
      ]
    },
    {
      "cell_type": "code",
      "metadata": {
        "id": "3uzdsCnWzwjT"
      },
      "source": [
        "# sample = open(r'C:\\Users\\EngineerSpock\\JupyterRoot\\sample.txt') # ne marche pas parce que c'est Colab \n",
        "\n",
        "# file = open(r'C:\\Users\\EngineerSpock\\JupyterRoot\\sample.txt')\n",
        "# file = open('C:\\\\Users\\\\EngineerSpock\\\\JupyterRoot\\\\sample.txt')\n",
        "# file = open('/Users/EngineerSpock/JupyterRoot/sample.txt')"
      ],
      "execution_count": null,
      "outputs": []
    },
    {
      "cell_type": "code",
      "metadata": {
        "id": "Kz6hoz-NzzDk"
      },
      "source": [
        "file.close()\n",
        "# sample.close()"
      ],
      "execution_count": null,
      "outputs": []
    },
    {
      "cell_type": "code",
      "metadata": {
        "id": "BSa4sUwc1Cy1",
        "outputId": "fa2bf647-0d18-4a71-d6d6-e45c47a4c3c6",
        "colab": {
          "base_uri": "https://localhost:8080/"
        }
      },
      "source": [
        "print(file.closed)"
      ],
      "execution_count": null,
      "outputs": [
        {
          "output_type": "stream",
          "text": [
            "True\n"
          ],
          "name": "stdout"
        }
      ]
    },
    {
      "cell_type": "code",
      "metadata": {
        "id": "KGNHqWRj2lrN"
      },
      "source": [
        "with open('sample.txt') as sample :\n",
        "  s = sample.read()\n",
        "# file will close autaumatiqement"
      ],
      "execution_count": null,
      "outputs": []
    },
    {
      "cell_type": "code",
      "metadata": {
        "id": "6Hp3kdNW3WJe",
        "outputId": "d20f8f6f-0cfa-43d0-c4a8-7d2afa134f5d",
        "colab": {
          "base_uri": "https://localhost:8080/"
        }
      },
      "source": [
        "print(s)"
      ],
      "execution_count": null,
      "outputs": [
        {
          "output_type": "stream",
          "text": [
            "Name|Phone\n",
            "John;123\n",
            "Bon;234\n",
            "Kevin;434\n"
          ],
          "name": "stdout"
        }
      ]
    },
    {
      "cell_type": "code",
      "metadata": {
        "id": "yskbTFhD3mso"
      },
      "source": [
        "# mode\n",
        "# r  - only reading; error with writing\n",
        "# w  - write; error with reading\n",
        "# a  - append, une fiche doit déjà exister\n",
        "# r+ - reading + writing; une fiche doit déjà exister\n",
        "# w+ - reading + writing; "
      ],
      "execution_count": null,
      "outputs": []
    },
    {
      "cell_type": "code",
      "metadata": {
        "id": "j6JyZpQV4hHb"
      },
      "source": [
        "with open('sample.txt', 'a') as sample :\n",
        "  sample.write('\\nEric;98765')"
      ],
      "execution_count": null,
      "outputs": []
    },
    {
      "cell_type": "code",
      "metadata": {
        "id": "OtkOM5kP5NU8",
        "outputId": "b657f332-3f5c-4939-b240-fbcd50c16d87",
        "colab": {
          "base_uri": "https://localhost:8080/"
        }
      },
      "source": [
        "with open('sample.txt', 'r') as sample :\n",
        "  print(sample.read())"
      ],
      "execution_count": null,
      "outputs": [
        {
          "output_type": "stream",
          "text": [
            "Name|Phone\n",
            "John;123\n",
            "Bon;234\n",
            "Kevin;434\n",
            "Eric;98765\n"
          ],
          "name": "stdout"
        }
      ]
    },
    {
      "cell_type": "code",
      "metadata": {
        "id": "xxQ-yEWiDLm_",
        "outputId": "29320d25-15e4-4c0b-f48c-afedd72dd409",
        "colab": {
          "base_uri": "https://localhost:8080/"
        }
      },
      "source": [
        "with open('sample.txt', 'r+') as sample : # read + add new line\n",
        "  sample.seek(0, 2) # начинаем читать файл с конца файла (0, 1) относительно курсора\n",
        "  sample.write(\"\\nLuc;0091\")\n",
        "  sample.seek(0)\n",
        "  print(sample.read())"
      ],
      "execution_count": null,
      "outputs": [
        {
          "output_type": "stream",
          "text": [
            "Name|Phone\n",
            "John;123\n",
            "Bon;234\n",
            "Kevin;434\n",
            "Eric;98765\n",
            "Luc;0091\n"
          ],
          "name": "stdout"
        }
      ]
    },
    {
      "cell_type": "code",
      "metadata": {
        "id": "H1cHteForSLt"
      },
      "source": [
        "with open('sonic.txt', 'w') as sonic:\n",
        "  sonic.write('moving fast')\n",
        "  sonic.seek(0)\n",
        "  # print(sonic.read()) --- donne une faut, a cause de 'w'"
      ],
      "execution_count": null,
      "outputs": []
    },
    {
      "cell_type": "code",
      "metadata": {
        "id": "zW6HIqxJr9Jl",
        "outputId": "50dc246a-d3b7-4722-a5b9-4802c420e399",
        "colab": {
          "base_uri": "https://localhost:8080/"
        }
      },
      "source": [
        "with open('sonic.txt', 'w+') as sonic:\n",
        "  sonic.write('moving fast')\n",
        "  sonic.seek(0)\n",
        "  print(sonic.read()) # ca va"
      ],
      "execution_count": null,
      "outputs": [
        {
          "output_type": "stream",
          "text": [
            "moving fast\n"
          ],
          "name": "stdout"
        }
      ]
    },
    {
      "cell_type": "markdown",
      "metadata": {
        "id": "DMLZwPlYsNaP"
      },
      "source": [
        "## Bytes"
      ]
    },
    {
      "cell_type": "code",
      "metadata": {
        "id": "NPseTqLcsGgK",
        "outputId": "ccb17d5a-2979-496e-966e-3536ad7be61a",
        "colab": {
          "base_uri": "https://localhost:8080/",
          "height": 35
        }
      },
      "source": [
        "import sys\n",
        "sys.getdefaultencoding()"
      ],
      "execution_count": null,
      "outputs": [
        {
          "output_type": "execute_result",
          "data": {
            "application/vnd.google.colaboratory.intrinsic+json": {
              "type": "string"
            },
            "text/plain": [
              "'utf-8'"
            ]
          },
          "metadata": {
            "tags": []
          },
          "execution_count": 67
        }
      ]
    },
    {
      "cell_type": "code",
      "metadata": {
        "id": "if5hCcFrs3pC",
        "outputId": "df31ec73-21d3-43e6-b975-e4e91b011f09",
        "colab": {
          "base_uri": "https://localhost:8080/"
        }
      },
      "source": [
        "ord('a') # combien se dymboles"
      ],
      "execution_count": null,
      "outputs": [
        {
          "output_type": "execute_result",
          "data": {
            "text/plain": [
              "97"
            ]
          },
          "metadata": {
            "tags": []
          },
          "execution_count": 68
        }
      ]
    },
    {
      "cell_type": "code",
      "metadata": {
        "id": "3AvKQHaEs9Un",
        "outputId": "58f51265-33a9-49b9-c961-991030994140",
        "colab": {
          "base_uri": "https://localhost:8080/",
          "height": 35
        }
      },
      "source": [
        "chr(97) # quelle character"
      ],
      "execution_count": null,
      "outputs": [
        {
          "output_type": "execute_result",
          "data": {
            "application/vnd.google.colaboratory.intrinsic+json": {
              "type": "string"
            },
            "text/plain": [
              "'a'"
            ]
          },
          "metadata": {
            "tags": []
          },
          "execution_count": 69
        }
      ]
    },
    {
      "cell_type": "code",
      "metadata": {
        "id": "oIKfezqstDsE",
        "outputId": "d3d3dc8c-5cf8-41d6-cbd6-4509ed0b3804",
        "colab": {
          "base_uri": "https://localhost:8080/",
          "height": 35
        }
      },
      "source": [
        "chr(198) # 0 - 127 n'est pas limite "
      ],
      "execution_count": null,
      "outputs": [
        {
          "output_type": "execute_result",
          "data": {
            "application/vnd.google.colaboratory.intrinsic+json": {
              "type": "string"
            },
            "text/plain": [
              "'Æ'"
            ]
          },
          "metadata": {
            "tags": []
          },
          "execution_count": 70
        }
      ]
    },
    {
      "cell_type": "code",
      "metadata": {
        "id": "KQhFMOXXtSO3",
        "outputId": "d7447654-4d00-40ee-e5e2-28d6ba386975",
        "colab": {
          "base_uri": "https://localhost:8080/"
        }
      },
      "source": [
        "s = 'world'\n",
        "enc_ascii = s.encode('ascii')\n",
        "enc_utf8 = s.encode('utf8')\n",
        "enc_utf16 = s.encode('utf16')\n",
        "\n",
        "print(enc_ascii, type(enc_ascii), len(enc_ascii))\n",
        "print(enc_utf8, type(enc_utf8), len(enc_utf8))\n",
        "print(enc_utf16, type(enc_utf16), len(enc_utf16))"
      ],
      "execution_count": null,
      "outputs": [
        {
          "output_type": "stream",
          "text": [
            "b'world' <class 'bytes'> 5\n",
            "b'world' <class 'bytes'> 5\n",
            "b'\\xff\\xfew\\x00o\\x00r\\x00l\\x00d\\x00' <class 'bytes'> 12\n"
          ],
          "name": "stdout"
        }
      ]
    },
    {
      "cell_type": "code",
      "metadata": {
        "id": "Goj2jfmlt88M",
        "outputId": "967054cd-a4c5-4dd1-a167-4012ce685030",
        "colab": {
          "base_uri": "https://localhost:8080/"
        }
      },
      "source": [
        "str_in_byte = b'world'\n",
        "str_in_bytes = s.encode('utf8')\n",
        "str_in_text = 'world'\n",
        "\n",
        "print(type(str_in_byte))\n",
        "print(type(str_in_bytes))\n",
        "print(type(str_in_text))\n",
        "print()\n",
        "\n",
        "print('bytes'.encode('utf8'))\n",
        "print('байты'.encode('utf8'))\n",
        "print()\n"
      ],
      "execution_count": null,
      "outputs": [
        {
          "output_type": "stream",
          "text": [
            "<class 'bytes'>\n",
            "<class 'bytes'>\n",
            "<class 'str'>\n",
            "\n",
            "b'bytes'\n",
            "b'\\xd0\\xb1\\xd0\\xb0\\xd0\\xb9\\xd1\\x82\\xd1\\x8b'\n",
            "\n"
          ],
          "name": "stdout"
        }
      ]
    },
    {
      "cell_type": "code",
      "metadata": {
        "id": "BAOPLIfYwa8P",
        "outputId": "c28fc556-3d4c-4137-f397-18c06af7d5b2",
        "colab": {
          "base_uri": "https://localhost:8080/"
        }
      },
      "source": [
        "# bytes qu'on peut changer\n",
        "\n",
        "ba = bytearray(b'horld')\n",
        "ba[0] = 87\n",
        "print(ba)"
      ],
      "execution_count": null,
      "outputs": [
        {
          "output_type": "stream",
          "text": [
            "bytearray(b'World')\n"
          ],
          "name": "stdout"
        }
      ]
    },
    {
      "cell_type": "code",
      "metadata": {
        "id": "mfNyh3g0y4cl",
        "outputId": "1878c036-f83c-438a-e2d8-13d704d15e74",
        "colab": {
          "base_uri": "https://localhost:8080/"
        }
      },
      "source": [
        "# il ne faut pas faire, c'est une longeur - b'world', mail il faut afficher une longeur - world\n",
        "print(\"# il ne faut pas faire, c'est une longeur - b'world', mail il faut afficher une longeur - world\")\n",
        "result = str(str_in_bytes)\n",
        "print(result)\n",
        "print(len(result))\n",
        "print()\n",
        "\n",
        "# il faut utiliser utf8\n",
        "print(\"# il faut utiliser utf8\")\n",
        "result = str(str_in_bytes, 'utf8')\n",
        "print(result)\n",
        "print(len(result))\n",
        "print()\n",
        "\n",
        "# il mieux utiliser 'decode'\n",
        "print(\"# il mieux utiliser 'decode'\")\n",
        "result = str_in_bytes.decode('utf8')\n",
        "print(result)\n",
        "print(len(result))\n",
        "\n",
        "print()"
      ],
      "execution_count": null,
      "outputs": [
        {
          "output_type": "stream",
          "text": [
            "# il ne faut pas faire, c'est une longeur - b'world', mail il faut afficher une longeur - world\n",
            "b'world'\n",
            "8\n",
            "\n",
            "# il faut utiliser utf8\n",
            "world\n",
            "5\n",
            "\n",
            "# il mieux utiliser 'decode'\n",
            "world\n",
            "5\n",
            "\n"
          ],
          "name": "stdout"
        }
      ]
    },
    {
      "cell_type": "code",
      "metadata": {
        "id": "EEtvA35SAlgI"
      },
      "source": [
        "jpeg = [78, 0, 82,0, 100] # int comporte aussi les bytes\n",
        "with open(r'btest.bin', 'w+b') as file :\n",
        "  file.write(bytes(jpeg))"
      ],
      "execution_count": null,
      "outputs": []
    },
    {
      "cell_type": "code",
      "metadata": {
        "id": "zOjIia7lu4TD",
        "outputId": "d2aba25a-b4f6-4263-c56b-2c6cbe83cab6",
        "colab": {
          "base_uri": "https://localhost:8080/"
        }
      },
      "source": [
        "with open(r'btest.bin', 'rb') as file :\n",
        "  data = file.read()\n",
        "  for b in data:\n",
        "    print(int(b))"
      ],
      "execution_count": null,
      "outputs": [
        {
          "output_type": "stream",
          "text": [
            "78\n",
            "0\n",
            "82\n",
            "0\n",
            "100\n"
          ],
          "name": "stdout"
        }
      ]
    },
    {
      "cell_type": "markdown",
      "metadata": {
        "id": "A17LIXsbDXLF"
      },
      "source": [
        "# Bilan \n",
        "1. Types de données ()\n",
        "2. Operations mathematiques\n",
        "3. Variables et operation de comparaison\n",
        "4. Work with file system\n",
        "5. Bytes\n"
      ]
    }
  ]
}